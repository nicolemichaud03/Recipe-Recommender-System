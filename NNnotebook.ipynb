{
  "cells": [
    {
      "cell_type": "markdown",
      "metadata": {
        "id": "view-in-github",
        "colab_type": "text"
      },
      "source": [
        "<a href=\"https://colab.research.google.com/github/nicolemichaud03/Recipe-Recommender-System/blob/main/NNnotebook.ipynb\" target=\"_parent\"><img src=\"https://colab.research.google.com/assets/colab-badge.svg\" alt=\"Open In Colab\"/></a>"
      ]
    },
    {
      "cell_type": "markdown",
      "metadata": {
        "id": "F-ANHHcQTF7N"
      },
      "source": [
        "## Neural Network Recipe Recommendation System with Embeddings for Dietary Restriction"
      ]
    },
    {
      "cell_type": "markdown",
      "metadata": {
        "id": "TAifMN1VTFe9"
      },
      "source": [
        "### Pre-Processing and Data Exploration:"
      ]
    },
    {
      "cell_type": "markdown",
      "metadata": {
        "id": "z0yOkcwReMSJ"
      },
      "source": [
        "Loading the data and necessary packages:"
      ]
    },
    {
      "cell_type": "code",
      "execution_count": 1,
      "metadata": {
        "colab": {
          "base_uri": "https://localhost:8080/"
        },
        "id": "iYY-lsz7cp7v",
        "outputId": "f48918ea-4855-4740-acc9-d726529f37ab"
      },
      "outputs": [
        {
          "output_type": "stream",
          "name": "stdout",
          "text": [
            "\u001b[2K     \u001b[90m━━━━━━━━━━━━━━━━━━━━━━━━━━━━━━━━━━━━━━━━\u001b[0m \u001b[32m96.2/96.2 kB\u001b[0m \u001b[31m3.4 MB/s\u001b[0m eta \u001b[36m0:00:00\u001b[0m\n",
            "\u001b[2K     \u001b[90m━━━━━━━━━━━━━━━━━━━━━━━━━━━━━━━━━━━━━━━━\u001b[0m \u001b[32m151.2/151.2 kB\u001b[0m \u001b[31m4.7 MB/s\u001b[0m eta \u001b[36m0:00:00\u001b[0m\n",
            "\u001b[2K     \u001b[90m━━━━━━━━━━━━━━━━━━━━━━━━━━━━━━━━━━━━━━━━\u001b[0m \u001b[32m9.6/9.6 MB\u001b[0m \u001b[31m25.9 MB/s\u001b[0m eta \u001b[36m0:00:00\u001b[0m\n",
            "\u001b[2K     \u001b[90m━━━━━━━━━━━━━━━━━━━━━━━━━━━━━━━━━━━━━━━━\u001b[0m \u001b[32m479.7/479.7 MB\u001b[0m \u001b[31m2.0 MB/s\u001b[0m eta \u001b[36m0:00:00\u001b[0m\n",
            "\u001b[2K     \u001b[90m━━━━━━━━━━━━━━━━━━━━━━━━━━━━━━━━━━━━━━━━\u001b[0m \u001b[32m1.7/1.7 MB\u001b[0m \u001b[31m82.4 MB/s\u001b[0m eta \u001b[36m0:00:00\u001b[0m\n",
            "\u001b[2K     \u001b[90m━━━━━━━━━━━━━━━━━━━━━━━━━━━━━━━━━━━━━━━━\u001b[0m \u001b[32m5.6/5.6 MB\u001b[0m \u001b[31m103.6 MB/s\u001b[0m eta \u001b[36m0:00:00\u001b[0m\n",
            "\u001b[2K     \u001b[90m━━━━━━━━━━━━━━━━━━━━━━━━━━━━━━━━━━━━━━━━\u001b[0m \u001b[32m440.8/440.8 kB\u001b[0m \u001b[31m45.3 MB/s\u001b[0m eta \u001b[36m0:00:00\u001b[0m\n",
            "\u001b[?25h\u001b[31mERROR: pip's dependency resolver does not currently take into account all the packages that are installed. This behaviour is the source of the following dependency conflicts.\n",
            "sqlalchemy 2.0.25 requires typing-extensions>=4.6.0, but you have typing-extensions 4.5.0 which is incompatible.\n",
            "pydantic 2.6.1 requires typing-extensions>=4.6.1, but you have typing-extensions 4.5.0 which is incompatible.\n",
            "pydantic-core 2.16.2 requires typing-extensions!=4.7.0,>=4.6.0, but you have typing-extensions 4.5.0 which is incompatible.\n",
            "tensorflow-serving-api 2.14.1 requires tensorflow<3,>=2.14.1, but you have tensorflow 2.13.1 which is incompatible.\u001b[0m\u001b[31m\n",
            "\u001b[0m"
          ]
        }
      ],
      "source": [
        "# TF's recommender imports\n",
        "!pip install -q tensorflow-recommenders\n",
        "!pip install -q tensorflow_ranking\n",
        "!pip install -q --upgrade tensorflow-datasets\n",
        "!pip install -q scann"
      ]
    },
    {
      "cell_type": "code",
      "execution_count": 2,
      "metadata": {
        "colab": {
          "base_uri": "https://localhost:8080/"
        },
        "id": "hSwBOGSYlOrD",
        "outputId": "3c77c97a-1bf3-4afd-e1a2-057756df81b1"
      },
      "outputs": [
        {
          "output_type": "stream",
          "name": "stdout",
          "text": [
            "TensorFlow version: 2.13.1\n"
          ]
        }
      ],
      "source": [
        "import tensorflow as tf\n",
        "print(\"TensorFlow version:\", tf.__version__)"
      ]
    },
    {
      "cell_type": "code",
      "execution_count": 3,
      "metadata": {
        "colab": {
          "base_uri": "https://localhost:8080/"
        },
        "id": "rI8660mKc4zY",
        "outputId": "5a7b3aa8-1b94-49ac-b30d-5666dac48ce9"
      },
      "outputs": [
        {
          "output_type": "stream",
          "name": "stderr",
          "text": [
            "[nltk_data] Downloading package punkt to /root/nltk_data...\n",
            "[nltk_data]   Unzipping tokenizers/punkt.zip.\n"
          ]
        }
      ],
      "source": [
        "import pandas as pd\n",
        "import nltk\n",
        "nltk.download('punkt')\n",
        "from nltk.corpus import stopwords\n",
        "import re\n",
        "import numpy as np\n",
        "import pickle\n",
        "from nltk.tokenize import RegexpTokenizer, word_tokenize\n",
        "import io\n",
        "from collections import defaultdict\n",
        "import os\n",
        "import pprint\n",
        "import tempfile\n",
        "from typing import Dict, Text\n",
        "import numpy as np\n",
        "import tensorflow as tf\n",
        "import tensorflow_datasets as tfds\n",
        "import tensorflow_recommenders as tfrs\n",
        "import tensorflow_ranking as tfr"
      ]
    },
    {
      "cell_type": "code",
      "execution_count": 4,
      "metadata": {
        "colab": {
          "base_uri": "https://localhost:8080/"
        },
        "id": "3x262GMxc43U",
        "outputId": "c9761126-0306-43f2-ae78-8e298c6f90bc"
      },
      "outputs": [
        {
          "output_type": "stream",
          "name": "stdout",
          "text": [
            "Mounted at /content/drive\n"
          ]
        }
      ],
      "source": [
        "from google.colab import drive\n",
        "drive.mount('/content/drive')"
      ]
    },
    {
      "cell_type": "markdown",
      "metadata": {
        "id": "IRpEh5LnTq7j"
      },
      "source": [
        "Loading the user and item data and viewing it:"
      ]
    },
    {
      "cell_type": "code",
      "source": [
        "# pip install kaggle\n",
        "# kaggle datasets download -d shuyangli94/food-com-recipes-and-user-interactions"
      ],
      "metadata": {
        "id": "6FUfJwbQXdDD"
      },
      "execution_count": null,
      "outputs": []
    },
    {
      "cell_type": "code",
      "source": [
        "# #import json\n",
        "# import os\n",
        "# from pathlib import Path\n",
        "\n",
        "# # your api key\n",
        "# api_key = {\n",
        "# 'username':\"username\" ,\n",
        "# 'key':\"some_api_key\"}\n",
        "\n",
        "# # uses pathlib Path\n",
        "# kaggle_path = Path('/root/.kaggle')\n",
        "# os.makedirs(kaggle_path, exist_ok=True)\n",
        "\n",
        "# # opens file and dumps python dict to json object\n",
        "# with open (kaggle_path/'kaggle.json', 'w') as handl:\n",
        "#     json.dump(api_key,handl)\n",
        "\n",
        "# os.chmod(kaggle_path/'kaggle.json', 600)\n",
        "\n"
      ],
      "metadata": {
        "id": "DeKKRLy5WrcG"
      },
      "execution_count": null,
      "outputs": []
    },
    {
      "cell_type": "code",
      "execution_count": 5,
      "metadata": {
        "id": "d5mdZsVPc46S"
      },
      "outputs": [],
      "source": [
        "user_data = pd.read_csv('/content/drive/MyDrive/Colab Notebooks/capstone_data/RAW_interactions.csv')\n",
        "recipe_data = pd.read_csv('/content/drive/MyDrive/Colab Notebooks/capstone_data/RAW_recipes.csv')"
      ]
    },
    {
      "cell_type": "code",
      "execution_count": 6,
      "metadata": {
        "colab": {
          "base_uri": "https://localhost:8080/",
          "height": 293
        },
        "id": "JewIeK88Tug2",
        "outputId": "25776ee5-a0d0-4dcf-8d8b-0585996ecdff"
      },
      "outputs": [
        {
          "output_type": "execute_result",
          "data": {
            "text/plain": [
              "   user_id  recipe_id        date  rating  \\\n",
              "0    38094      40893  2003-02-17       4   \n",
              "1  1293707      40893  2011-12-21       5   \n",
              "2     8937      44394  2002-12-01       4   \n",
              "3   126440      85009  2010-02-27       5   \n",
              "4    57222      85009  2011-10-01       5   \n",
              "\n",
              "                                              review  \n",
              "0  Great with a salad. Cooked on top of stove for...  \n",
              "1  So simple, so delicious! Great for chilly fall...  \n",
              "2  This worked very well and is EASY.  I used not...  \n",
              "3  I made the Mexican topping and took it to bunk...  \n",
              "4  Made the cheddar bacon topping, adding a sprin...  "
            ],
            "text/html": [
              "\n",
              "  <div id=\"df-5719d21b-c794-4186-8422-0ac231175629\" class=\"colab-df-container\">\n",
              "    <div>\n",
              "<style scoped>\n",
              "    .dataframe tbody tr th:only-of-type {\n",
              "        vertical-align: middle;\n",
              "    }\n",
              "\n",
              "    .dataframe tbody tr th {\n",
              "        vertical-align: top;\n",
              "    }\n",
              "\n",
              "    .dataframe thead th {\n",
              "        text-align: right;\n",
              "    }\n",
              "</style>\n",
              "<table border=\"1\" class=\"dataframe\">\n",
              "  <thead>\n",
              "    <tr style=\"text-align: right;\">\n",
              "      <th></th>\n",
              "      <th>user_id</th>\n",
              "      <th>recipe_id</th>\n",
              "      <th>date</th>\n",
              "      <th>rating</th>\n",
              "      <th>review</th>\n",
              "    </tr>\n",
              "  </thead>\n",
              "  <tbody>\n",
              "    <tr>\n",
              "      <th>0</th>\n",
              "      <td>38094</td>\n",
              "      <td>40893</td>\n",
              "      <td>2003-02-17</td>\n",
              "      <td>4</td>\n",
              "      <td>Great with a salad. Cooked on top of stove for...</td>\n",
              "    </tr>\n",
              "    <tr>\n",
              "      <th>1</th>\n",
              "      <td>1293707</td>\n",
              "      <td>40893</td>\n",
              "      <td>2011-12-21</td>\n",
              "      <td>5</td>\n",
              "      <td>So simple, so delicious! Great for chilly fall...</td>\n",
              "    </tr>\n",
              "    <tr>\n",
              "      <th>2</th>\n",
              "      <td>8937</td>\n",
              "      <td>44394</td>\n",
              "      <td>2002-12-01</td>\n",
              "      <td>4</td>\n",
              "      <td>This worked very well and is EASY.  I used not...</td>\n",
              "    </tr>\n",
              "    <tr>\n",
              "      <th>3</th>\n",
              "      <td>126440</td>\n",
              "      <td>85009</td>\n",
              "      <td>2010-02-27</td>\n",
              "      <td>5</td>\n",
              "      <td>I made the Mexican topping and took it to bunk...</td>\n",
              "    </tr>\n",
              "    <tr>\n",
              "      <th>4</th>\n",
              "      <td>57222</td>\n",
              "      <td>85009</td>\n",
              "      <td>2011-10-01</td>\n",
              "      <td>5</td>\n",
              "      <td>Made the cheddar bacon topping, adding a sprin...</td>\n",
              "    </tr>\n",
              "  </tbody>\n",
              "</table>\n",
              "</div>\n",
              "    <div class=\"colab-df-buttons\">\n",
              "\n",
              "  <div class=\"colab-df-container\">\n",
              "    <button class=\"colab-df-convert\" onclick=\"convertToInteractive('df-5719d21b-c794-4186-8422-0ac231175629')\"\n",
              "            title=\"Convert this dataframe to an interactive table.\"\n",
              "            style=\"display:none;\">\n",
              "\n",
              "  <svg xmlns=\"http://www.w3.org/2000/svg\" height=\"24px\" viewBox=\"0 -960 960 960\">\n",
              "    <path d=\"M120-120v-720h720v720H120Zm60-500h600v-160H180v160Zm220 220h160v-160H400v160Zm0 220h160v-160H400v160ZM180-400h160v-160H180v160Zm440 0h160v-160H620v160ZM180-180h160v-160H180v160Zm440 0h160v-160H620v160Z\"/>\n",
              "  </svg>\n",
              "    </button>\n",
              "\n",
              "  <style>\n",
              "    .colab-df-container {\n",
              "      display:flex;\n",
              "      gap: 12px;\n",
              "    }\n",
              "\n",
              "    .colab-df-convert {\n",
              "      background-color: #E8F0FE;\n",
              "      border: none;\n",
              "      border-radius: 50%;\n",
              "      cursor: pointer;\n",
              "      display: none;\n",
              "      fill: #1967D2;\n",
              "      height: 32px;\n",
              "      padding: 0 0 0 0;\n",
              "      width: 32px;\n",
              "    }\n",
              "\n",
              "    .colab-df-convert:hover {\n",
              "      background-color: #E2EBFA;\n",
              "      box-shadow: 0px 1px 2px rgba(60, 64, 67, 0.3), 0px 1px 3px 1px rgba(60, 64, 67, 0.15);\n",
              "      fill: #174EA6;\n",
              "    }\n",
              "\n",
              "    .colab-df-buttons div {\n",
              "      margin-bottom: 4px;\n",
              "    }\n",
              "\n",
              "    [theme=dark] .colab-df-convert {\n",
              "      background-color: #3B4455;\n",
              "      fill: #D2E3FC;\n",
              "    }\n",
              "\n",
              "    [theme=dark] .colab-df-convert:hover {\n",
              "      background-color: #434B5C;\n",
              "      box-shadow: 0px 1px 3px 1px rgba(0, 0, 0, 0.15);\n",
              "      filter: drop-shadow(0px 1px 2px rgba(0, 0, 0, 0.3));\n",
              "      fill: #FFFFFF;\n",
              "    }\n",
              "  </style>\n",
              "\n",
              "    <script>\n",
              "      const buttonEl =\n",
              "        document.querySelector('#df-5719d21b-c794-4186-8422-0ac231175629 button.colab-df-convert');\n",
              "      buttonEl.style.display =\n",
              "        google.colab.kernel.accessAllowed ? 'block' : 'none';\n",
              "\n",
              "      async function convertToInteractive(key) {\n",
              "        const element = document.querySelector('#df-5719d21b-c794-4186-8422-0ac231175629');\n",
              "        const dataTable =\n",
              "          await google.colab.kernel.invokeFunction('convertToInteractive',\n",
              "                                                    [key], {});\n",
              "        if (!dataTable) return;\n",
              "\n",
              "        const docLinkHtml = 'Like what you see? Visit the ' +\n",
              "          '<a target=\"_blank\" href=https://colab.research.google.com/notebooks/data_table.ipynb>data table notebook</a>'\n",
              "          + ' to learn more about interactive tables.';\n",
              "        element.innerHTML = '';\n",
              "        dataTable['output_type'] = 'display_data';\n",
              "        await google.colab.output.renderOutput(dataTable, element);\n",
              "        const docLink = document.createElement('div');\n",
              "        docLink.innerHTML = docLinkHtml;\n",
              "        element.appendChild(docLink);\n",
              "      }\n",
              "    </script>\n",
              "  </div>\n",
              "\n",
              "\n",
              "<div id=\"df-daa9c992-15a5-472f-a6bd-a4354992a9f4\">\n",
              "  <button class=\"colab-df-quickchart\" onclick=\"quickchart('df-daa9c992-15a5-472f-a6bd-a4354992a9f4')\"\n",
              "            title=\"Suggest charts\"\n",
              "            style=\"display:none;\">\n",
              "\n",
              "<svg xmlns=\"http://www.w3.org/2000/svg\" height=\"24px\"viewBox=\"0 0 24 24\"\n",
              "     width=\"24px\">\n",
              "    <g>\n",
              "        <path d=\"M19 3H5c-1.1 0-2 .9-2 2v14c0 1.1.9 2 2 2h14c1.1 0 2-.9 2-2V5c0-1.1-.9-2-2-2zM9 17H7v-7h2v7zm4 0h-2V7h2v10zm4 0h-2v-4h2v4z\"/>\n",
              "    </g>\n",
              "</svg>\n",
              "  </button>\n",
              "\n",
              "<style>\n",
              "  .colab-df-quickchart {\n",
              "      --bg-color: #E8F0FE;\n",
              "      --fill-color: #1967D2;\n",
              "      --hover-bg-color: #E2EBFA;\n",
              "      --hover-fill-color: #174EA6;\n",
              "      --disabled-fill-color: #AAA;\n",
              "      --disabled-bg-color: #DDD;\n",
              "  }\n",
              "\n",
              "  [theme=dark] .colab-df-quickchart {\n",
              "      --bg-color: #3B4455;\n",
              "      --fill-color: #D2E3FC;\n",
              "      --hover-bg-color: #434B5C;\n",
              "      --hover-fill-color: #FFFFFF;\n",
              "      --disabled-bg-color: #3B4455;\n",
              "      --disabled-fill-color: #666;\n",
              "  }\n",
              "\n",
              "  .colab-df-quickchart {\n",
              "    background-color: var(--bg-color);\n",
              "    border: none;\n",
              "    border-radius: 50%;\n",
              "    cursor: pointer;\n",
              "    display: none;\n",
              "    fill: var(--fill-color);\n",
              "    height: 32px;\n",
              "    padding: 0;\n",
              "    width: 32px;\n",
              "  }\n",
              "\n",
              "  .colab-df-quickchart:hover {\n",
              "    background-color: var(--hover-bg-color);\n",
              "    box-shadow: 0 1px 2px rgba(60, 64, 67, 0.3), 0 1px 3px 1px rgba(60, 64, 67, 0.15);\n",
              "    fill: var(--button-hover-fill-color);\n",
              "  }\n",
              "\n",
              "  .colab-df-quickchart-complete:disabled,\n",
              "  .colab-df-quickchart-complete:disabled:hover {\n",
              "    background-color: var(--disabled-bg-color);\n",
              "    fill: var(--disabled-fill-color);\n",
              "    box-shadow: none;\n",
              "  }\n",
              "\n",
              "  .colab-df-spinner {\n",
              "    border: 2px solid var(--fill-color);\n",
              "    border-color: transparent;\n",
              "    border-bottom-color: var(--fill-color);\n",
              "    animation:\n",
              "      spin 1s steps(1) infinite;\n",
              "  }\n",
              "\n",
              "  @keyframes spin {\n",
              "    0% {\n",
              "      border-color: transparent;\n",
              "      border-bottom-color: var(--fill-color);\n",
              "      border-left-color: var(--fill-color);\n",
              "    }\n",
              "    20% {\n",
              "      border-color: transparent;\n",
              "      border-left-color: var(--fill-color);\n",
              "      border-top-color: var(--fill-color);\n",
              "    }\n",
              "    30% {\n",
              "      border-color: transparent;\n",
              "      border-left-color: var(--fill-color);\n",
              "      border-top-color: var(--fill-color);\n",
              "      border-right-color: var(--fill-color);\n",
              "    }\n",
              "    40% {\n",
              "      border-color: transparent;\n",
              "      border-right-color: var(--fill-color);\n",
              "      border-top-color: var(--fill-color);\n",
              "    }\n",
              "    60% {\n",
              "      border-color: transparent;\n",
              "      border-right-color: var(--fill-color);\n",
              "    }\n",
              "    80% {\n",
              "      border-color: transparent;\n",
              "      border-right-color: var(--fill-color);\n",
              "      border-bottom-color: var(--fill-color);\n",
              "    }\n",
              "    90% {\n",
              "      border-color: transparent;\n",
              "      border-bottom-color: var(--fill-color);\n",
              "    }\n",
              "  }\n",
              "</style>\n",
              "\n",
              "  <script>\n",
              "    async function quickchart(key) {\n",
              "      const quickchartButtonEl =\n",
              "        document.querySelector('#' + key + ' button');\n",
              "      quickchartButtonEl.disabled = true;  // To prevent multiple clicks.\n",
              "      quickchartButtonEl.classList.add('colab-df-spinner');\n",
              "      try {\n",
              "        const charts = await google.colab.kernel.invokeFunction(\n",
              "            'suggestCharts', [key], {});\n",
              "      } catch (error) {\n",
              "        console.error('Error during call to suggestCharts:', error);\n",
              "      }\n",
              "      quickchartButtonEl.classList.remove('colab-df-spinner');\n",
              "      quickchartButtonEl.classList.add('colab-df-quickchart-complete');\n",
              "    }\n",
              "    (() => {\n",
              "      let quickchartButtonEl =\n",
              "        document.querySelector('#df-daa9c992-15a5-472f-a6bd-a4354992a9f4 button');\n",
              "      quickchartButtonEl.style.display =\n",
              "        google.colab.kernel.accessAllowed ? 'block' : 'none';\n",
              "    })();\n",
              "  </script>\n",
              "</div>\n",
              "\n",
              "    </div>\n",
              "  </div>\n"
            ]
          },
          "metadata": {},
          "execution_count": 6
        }
      ],
      "source": [
        "user_data.head()"
      ]
    },
    {
      "cell_type": "code",
      "execution_count": 7,
      "metadata": {
        "colab": {
          "base_uri": "https://localhost:8080/"
        },
        "id": "lpF7SJ9JT6Wn",
        "outputId": "e7d81a4b-2996-409d-f2a8-f66897cf2e17"
      },
      "outputs": [
        {
          "output_type": "stream",
          "name": "stdout",
          "text": [
            "<class 'pandas.core.frame.DataFrame'>\n",
            "RangeIndex: 1132367 entries, 0 to 1132366\n",
            "Data columns (total 5 columns):\n",
            " #   Column     Non-Null Count    Dtype \n",
            "---  ------     --------------    ----- \n",
            " 0   user_id    1132367 non-null  int64 \n",
            " 1   recipe_id  1132367 non-null  int64 \n",
            " 2   date       1132367 non-null  object\n",
            " 3   rating     1132367 non-null  int64 \n",
            " 4   review     1132198 non-null  object\n",
            "dtypes: int64(3), object(2)\n",
            "memory usage: 43.2+ MB\n"
          ]
        }
      ],
      "source": [
        "user_data.info()"
      ]
    },
    {
      "cell_type": "code",
      "execution_count": 8,
      "metadata": {
        "colab": {
          "base_uri": "https://localhost:8080/",
          "height": 591
        },
        "id": "ZKsu8pMDTujt",
        "outputId": "5314897c-282e-4a77-cb0b-35466e56d95d"
      },
      "outputs": [
        {
          "output_type": "execute_result",
          "data": {
            "text/plain": [
              "                                         name      id  minutes  \\\n",
              "0  arriba   baked winter squash mexican style  137739       55   \n",
              "1            a bit different  breakfast pizza   31490       30   \n",
              "2                   all in the kitchen  chili  112140      130   \n",
              "3                          alouette  potatoes   59389       45   \n",
              "4          amish  tomato ketchup  for canning   44061      190   \n",
              "\n",
              "   contributor_id   submitted  \\\n",
              "0           47892  2005-09-16   \n",
              "1           26278  2002-06-17   \n",
              "2          196586  2005-02-25   \n",
              "3           68585  2003-04-14   \n",
              "4           41706  2002-10-25   \n",
              "\n",
              "                                                tags  \\\n",
              "0  ['60-minutes-or-less', 'time-to-make', 'course...   \n",
              "1  ['30-minutes-or-less', 'time-to-make', 'course...   \n",
              "2  ['time-to-make', 'course', 'preparation', 'mai...   \n",
              "3  ['60-minutes-or-less', 'time-to-make', 'course...   \n",
              "4  ['weeknight', 'time-to-make', 'course', 'main-...   \n",
              "\n",
              "                                    nutrition  n_steps  \\\n",
              "0       [51.5, 0.0, 13.0, 0.0, 2.0, 0.0, 4.0]       11   \n",
              "1   [173.4, 18.0, 0.0, 17.0, 22.0, 35.0, 1.0]        9   \n",
              "2  [269.8, 22.0, 32.0, 48.0, 39.0, 27.0, 5.0]        6   \n",
              "3   [368.1, 17.0, 10.0, 2.0, 14.0, 8.0, 20.0]       11   \n",
              "4   [352.9, 1.0, 337.0, 23.0, 3.0, 0.0, 28.0]        5   \n",
              "\n",
              "                                               steps  \\\n",
              "0  ['make a choice and proceed with recipe', 'dep...   \n",
              "1  ['preheat oven to 425 degrees f', 'press dough...   \n",
              "2  ['brown ground beef in large pot', 'add choppe...   \n",
              "3  ['place potatoes in a large pot of lightly sal...   \n",
              "4  ['mix all ingredients& boil for 2 1 / 2 hours ...   \n",
              "\n",
              "                                         description  \\\n",
              "0  autumn is my favorite time of year to cook! th...   \n",
              "1  this recipe calls for the crust to be prebaked...   \n",
              "2  this modified version of 'mom's' chili was a h...   \n",
              "3  this is a super easy, great tasting, make ahea...   \n",
              "4  my dh's amish mother raised him on this recipe...   \n",
              "\n",
              "                                         ingredients  n_ingredients  \n",
              "0  ['winter squash', 'mexican seasoning', 'mixed ...              7  \n",
              "1  ['prepared pizza crust', 'sausage patty', 'egg...              6  \n",
              "2  ['ground beef', 'yellow onions', 'diced tomato...             13  \n",
              "3  ['spreadable cheese with garlic and herbs', 'n...             11  \n",
              "4  ['tomato juice', 'apple cider vinegar', 'sugar...              8  "
            ],
            "text/html": [
              "\n",
              "  <div id=\"df-2c3634b3-7bcf-4453-a3d7-1618e60007cc\" class=\"colab-df-container\">\n",
              "    <div>\n",
              "<style scoped>\n",
              "    .dataframe tbody tr th:only-of-type {\n",
              "        vertical-align: middle;\n",
              "    }\n",
              "\n",
              "    .dataframe tbody tr th {\n",
              "        vertical-align: top;\n",
              "    }\n",
              "\n",
              "    .dataframe thead th {\n",
              "        text-align: right;\n",
              "    }\n",
              "</style>\n",
              "<table border=\"1\" class=\"dataframe\">\n",
              "  <thead>\n",
              "    <tr style=\"text-align: right;\">\n",
              "      <th></th>\n",
              "      <th>name</th>\n",
              "      <th>id</th>\n",
              "      <th>minutes</th>\n",
              "      <th>contributor_id</th>\n",
              "      <th>submitted</th>\n",
              "      <th>tags</th>\n",
              "      <th>nutrition</th>\n",
              "      <th>n_steps</th>\n",
              "      <th>steps</th>\n",
              "      <th>description</th>\n",
              "      <th>ingredients</th>\n",
              "      <th>n_ingredients</th>\n",
              "    </tr>\n",
              "  </thead>\n",
              "  <tbody>\n",
              "    <tr>\n",
              "      <th>0</th>\n",
              "      <td>arriba   baked winter squash mexican style</td>\n",
              "      <td>137739</td>\n",
              "      <td>55</td>\n",
              "      <td>47892</td>\n",
              "      <td>2005-09-16</td>\n",
              "      <td>['60-minutes-or-less', 'time-to-make', 'course...</td>\n",
              "      <td>[51.5, 0.0, 13.0, 0.0, 2.0, 0.0, 4.0]</td>\n",
              "      <td>11</td>\n",
              "      <td>['make a choice and proceed with recipe', 'dep...</td>\n",
              "      <td>autumn is my favorite time of year to cook! th...</td>\n",
              "      <td>['winter squash', 'mexican seasoning', 'mixed ...</td>\n",
              "      <td>7</td>\n",
              "    </tr>\n",
              "    <tr>\n",
              "      <th>1</th>\n",
              "      <td>a bit different  breakfast pizza</td>\n",
              "      <td>31490</td>\n",
              "      <td>30</td>\n",
              "      <td>26278</td>\n",
              "      <td>2002-06-17</td>\n",
              "      <td>['30-minutes-or-less', 'time-to-make', 'course...</td>\n",
              "      <td>[173.4, 18.0, 0.0, 17.0, 22.0, 35.0, 1.0]</td>\n",
              "      <td>9</td>\n",
              "      <td>['preheat oven to 425 degrees f', 'press dough...</td>\n",
              "      <td>this recipe calls for the crust to be prebaked...</td>\n",
              "      <td>['prepared pizza crust', 'sausage patty', 'egg...</td>\n",
              "      <td>6</td>\n",
              "    </tr>\n",
              "    <tr>\n",
              "      <th>2</th>\n",
              "      <td>all in the kitchen  chili</td>\n",
              "      <td>112140</td>\n",
              "      <td>130</td>\n",
              "      <td>196586</td>\n",
              "      <td>2005-02-25</td>\n",
              "      <td>['time-to-make', 'course', 'preparation', 'mai...</td>\n",
              "      <td>[269.8, 22.0, 32.0, 48.0, 39.0, 27.0, 5.0]</td>\n",
              "      <td>6</td>\n",
              "      <td>['brown ground beef in large pot', 'add choppe...</td>\n",
              "      <td>this modified version of 'mom's' chili was a h...</td>\n",
              "      <td>['ground beef', 'yellow onions', 'diced tomato...</td>\n",
              "      <td>13</td>\n",
              "    </tr>\n",
              "    <tr>\n",
              "      <th>3</th>\n",
              "      <td>alouette  potatoes</td>\n",
              "      <td>59389</td>\n",
              "      <td>45</td>\n",
              "      <td>68585</td>\n",
              "      <td>2003-04-14</td>\n",
              "      <td>['60-minutes-or-less', 'time-to-make', 'course...</td>\n",
              "      <td>[368.1, 17.0, 10.0, 2.0, 14.0, 8.0, 20.0]</td>\n",
              "      <td>11</td>\n",
              "      <td>['place potatoes in a large pot of lightly sal...</td>\n",
              "      <td>this is a super easy, great tasting, make ahea...</td>\n",
              "      <td>['spreadable cheese with garlic and herbs', 'n...</td>\n",
              "      <td>11</td>\n",
              "    </tr>\n",
              "    <tr>\n",
              "      <th>4</th>\n",
              "      <td>amish  tomato ketchup  for canning</td>\n",
              "      <td>44061</td>\n",
              "      <td>190</td>\n",
              "      <td>41706</td>\n",
              "      <td>2002-10-25</td>\n",
              "      <td>['weeknight', 'time-to-make', 'course', 'main-...</td>\n",
              "      <td>[352.9, 1.0, 337.0, 23.0, 3.0, 0.0, 28.0]</td>\n",
              "      <td>5</td>\n",
              "      <td>['mix all ingredients&amp; boil for 2 1 / 2 hours ...</td>\n",
              "      <td>my dh's amish mother raised him on this recipe...</td>\n",
              "      <td>['tomato juice', 'apple cider vinegar', 'sugar...</td>\n",
              "      <td>8</td>\n",
              "    </tr>\n",
              "  </tbody>\n",
              "</table>\n",
              "</div>\n",
              "    <div class=\"colab-df-buttons\">\n",
              "\n",
              "  <div class=\"colab-df-container\">\n",
              "    <button class=\"colab-df-convert\" onclick=\"convertToInteractive('df-2c3634b3-7bcf-4453-a3d7-1618e60007cc')\"\n",
              "            title=\"Convert this dataframe to an interactive table.\"\n",
              "            style=\"display:none;\">\n",
              "\n",
              "  <svg xmlns=\"http://www.w3.org/2000/svg\" height=\"24px\" viewBox=\"0 -960 960 960\">\n",
              "    <path d=\"M120-120v-720h720v720H120Zm60-500h600v-160H180v160Zm220 220h160v-160H400v160Zm0 220h160v-160H400v160ZM180-400h160v-160H180v160Zm440 0h160v-160H620v160ZM180-180h160v-160H180v160Zm440 0h160v-160H620v160Z\"/>\n",
              "  </svg>\n",
              "    </button>\n",
              "\n",
              "  <style>\n",
              "    .colab-df-container {\n",
              "      display:flex;\n",
              "      gap: 12px;\n",
              "    }\n",
              "\n",
              "    .colab-df-convert {\n",
              "      background-color: #E8F0FE;\n",
              "      border: none;\n",
              "      border-radius: 50%;\n",
              "      cursor: pointer;\n",
              "      display: none;\n",
              "      fill: #1967D2;\n",
              "      height: 32px;\n",
              "      padding: 0 0 0 0;\n",
              "      width: 32px;\n",
              "    }\n",
              "\n",
              "    .colab-df-convert:hover {\n",
              "      background-color: #E2EBFA;\n",
              "      box-shadow: 0px 1px 2px rgba(60, 64, 67, 0.3), 0px 1px 3px 1px rgba(60, 64, 67, 0.15);\n",
              "      fill: #174EA6;\n",
              "    }\n",
              "\n",
              "    .colab-df-buttons div {\n",
              "      margin-bottom: 4px;\n",
              "    }\n",
              "\n",
              "    [theme=dark] .colab-df-convert {\n",
              "      background-color: #3B4455;\n",
              "      fill: #D2E3FC;\n",
              "    }\n",
              "\n",
              "    [theme=dark] .colab-df-convert:hover {\n",
              "      background-color: #434B5C;\n",
              "      box-shadow: 0px 1px 3px 1px rgba(0, 0, 0, 0.15);\n",
              "      filter: drop-shadow(0px 1px 2px rgba(0, 0, 0, 0.3));\n",
              "      fill: #FFFFFF;\n",
              "    }\n",
              "  </style>\n",
              "\n",
              "    <script>\n",
              "      const buttonEl =\n",
              "        document.querySelector('#df-2c3634b3-7bcf-4453-a3d7-1618e60007cc button.colab-df-convert');\n",
              "      buttonEl.style.display =\n",
              "        google.colab.kernel.accessAllowed ? 'block' : 'none';\n",
              "\n",
              "      async function convertToInteractive(key) {\n",
              "        const element = document.querySelector('#df-2c3634b3-7bcf-4453-a3d7-1618e60007cc');\n",
              "        const dataTable =\n",
              "          await google.colab.kernel.invokeFunction('convertToInteractive',\n",
              "                                                    [key], {});\n",
              "        if (!dataTable) return;\n",
              "\n",
              "        const docLinkHtml = 'Like what you see? Visit the ' +\n",
              "          '<a target=\"_blank\" href=https://colab.research.google.com/notebooks/data_table.ipynb>data table notebook</a>'\n",
              "          + ' to learn more about interactive tables.';\n",
              "        element.innerHTML = '';\n",
              "        dataTable['output_type'] = 'display_data';\n",
              "        await google.colab.output.renderOutput(dataTable, element);\n",
              "        const docLink = document.createElement('div');\n",
              "        docLink.innerHTML = docLinkHtml;\n",
              "        element.appendChild(docLink);\n",
              "      }\n",
              "    </script>\n",
              "  </div>\n",
              "\n",
              "\n",
              "<div id=\"df-b4fdf93c-5d5a-4af8-9a1f-052d40800594\">\n",
              "  <button class=\"colab-df-quickchart\" onclick=\"quickchart('df-b4fdf93c-5d5a-4af8-9a1f-052d40800594')\"\n",
              "            title=\"Suggest charts\"\n",
              "            style=\"display:none;\">\n",
              "\n",
              "<svg xmlns=\"http://www.w3.org/2000/svg\" height=\"24px\"viewBox=\"0 0 24 24\"\n",
              "     width=\"24px\">\n",
              "    <g>\n",
              "        <path d=\"M19 3H5c-1.1 0-2 .9-2 2v14c0 1.1.9 2 2 2h14c1.1 0 2-.9 2-2V5c0-1.1-.9-2-2-2zM9 17H7v-7h2v7zm4 0h-2V7h2v10zm4 0h-2v-4h2v4z\"/>\n",
              "    </g>\n",
              "</svg>\n",
              "  </button>\n",
              "\n",
              "<style>\n",
              "  .colab-df-quickchart {\n",
              "      --bg-color: #E8F0FE;\n",
              "      --fill-color: #1967D2;\n",
              "      --hover-bg-color: #E2EBFA;\n",
              "      --hover-fill-color: #174EA6;\n",
              "      --disabled-fill-color: #AAA;\n",
              "      --disabled-bg-color: #DDD;\n",
              "  }\n",
              "\n",
              "  [theme=dark] .colab-df-quickchart {\n",
              "      --bg-color: #3B4455;\n",
              "      --fill-color: #D2E3FC;\n",
              "      --hover-bg-color: #434B5C;\n",
              "      --hover-fill-color: #FFFFFF;\n",
              "      --disabled-bg-color: #3B4455;\n",
              "      --disabled-fill-color: #666;\n",
              "  }\n",
              "\n",
              "  .colab-df-quickchart {\n",
              "    background-color: var(--bg-color);\n",
              "    border: none;\n",
              "    border-radius: 50%;\n",
              "    cursor: pointer;\n",
              "    display: none;\n",
              "    fill: var(--fill-color);\n",
              "    height: 32px;\n",
              "    padding: 0;\n",
              "    width: 32px;\n",
              "  }\n",
              "\n",
              "  .colab-df-quickchart:hover {\n",
              "    background-color: var(--hover-bg-color);\n",
              "    box-shadow: 0 1px 2px rgba(60, 64, 67, 0.3), 0 1px 3px 1px rgba(60, 64, 67, 0.15);\n",
              "    fill: var(--button-hover-fill-color);\n",
              "  }\n",
              "\n",
              "  .colab-df-quickchart-complete:disabled,\n",
              "  .colab-df-quickchart-complete:disabled:hover {\n",
              "    background-color: var(--disabled-bg-color);\n",
              "    fill: var(--disabled-fill-color);\n",
              "    box-shadow: none;\n",
              "  }\n",
              "\n",
              "  .colab-df-spinner {\n",
              "    border: 2px solid var(--fill-color);\n",
              "    border-color: transparent;\n",
              "    border-bottom-color: var(--fill-color);\n",
              "    animation:\n",
              "      spin 1s steps(1) infinite;\n",
              "  }\n",
              "\n",
              "  @keyframes spin {\n",
              "    0% {\n",
              "      border-color: transparent;\n",
              "      border-bottom-color: var(--fill-color);\n",
              "      border-left-color: var(--fill-color);\n",
              "    }\n",
              "    20% {\n",
              "      border-color: transparent;\n",
              "      border-left-color: var(--fill-color);\n",
              "      border-top-color: var(--fill-color);\n",
              "    }\n",
              "    30% {\n",
              "      border-color: transparent;\n",
              "      border-left-color: var(--fill-color);\n",
              "      border-top-color: var(--fill-color);\n",
              "      border-right-color: var(--fill-color);\n",
              "    }\n",
              "    40% {\n",
              "      border-color: transparent;\n",
              "      border-right-color: var(--fill-color);\n",
              "      border-top-color: var(--fill-color);\n",
              "    }\n",
              "    60% {\n",
              "      border-color: transparent;\n",
              "      border-right-color: var(--fill-color);\n",
              "    }\n",
              "    80% {\n",
              "      border-color: transparent;\n",
              "      border-right-color: var(--fill-color);\n",
              "      border-bottom-color: var(--fill-color);\n",
              "    }\n",
              "    90% {\n",
              "      border-color: transparent;\n",
              "      border-bottom-color: var(--fill-color);\n",
              "    }\n",
              "  }\n",
              "</style>\n",
              "\n",
              "  <script>\n",
              "    async function quickchart(key) {\n",
              "      const quickchartButtonEl =\n",
              "        document.querySelector('#' + key + ' button');\n",
              "      quickchartButtonEl.disabled = true;  // To prevent multiple clicks.\n",
              "      quickchartButtonEl.classList.add('colab-df-spinner');\n",
              "      try {\n",
              "        const charts = await google.colab.kernel.invokeFunction(\n",
              "            'suggestCharts', [key], {});\n",
              "      } catch (error) {\n",
              "        console.error('Error during call to suggestCharts:', error);\n",
              "      }\n",
              "      quickchartButtonEl.classList.remove('colab-df-spinner');\n",
              "      quickchartButtonEl.classList.add('colab-df-quickchart-complete');\n",
              "    }\n",
              "    (() => {\n",
              "      let quickchartButtonEl =\n",
              "        document.querySelector('#df-b4fdf93c-5d5a-4af8-9a1f-052d40800594 button');\n",
              "      quickchartButtonEl.style.display =\n",
              "        google.colab.kernel.accessAllowed ? 'block' : 'none';\n",
              "    })();\n",
              "  </script>\n",
              "</div>\n",
              "\n",
              "    </div>\n",
              "  </div>\n"
            ]
          },
          "metadata": {},
          "execution_count": 8
        }
      ],
      "source": [
        "\n",
        "recipe_data.head()"
      ]
    },
    {
      "cell_type": "code",
      "execution_count": 9,
      "metadata": {
        "colab": {
          "base_uri": "https://localhost:8080/"
        },
        "id": "TToAOvl-T6ZQ",
        "outputId": "5b5f8399-5dad-46e8-aeaa-b9ad5c4cb32a"
      },
      "outputs": [
        {
          "output_type": "stream",
          "name": "stdout",
          "text": [
            "<class 'pandas.core.frame.DataFrame'>\n",
            "RangeIndex: 231637 entries, 0 to 231636\n",
            "Data columns (total 12 columns):\n",
            " #   Column          Non-Null Count   Dtype \n",
            "---  ------          --------------   ----- \n",
            " 0   name            231636 non-null  object\n",
            " 1   id              231637 non-null  int64 \n",
            " 2   minutes         231637 non-null  int64 \n",
            " 3   contributor_id  231637 non-null  int64 \n",
            " 4   submitted       231637 non-null  object\n",
            " 5   tags            231637 non-null  object\n",
            " 6   nutrition       231637 non-null  object\n",
            " 7   n_steps         231637 non-null  int64 \n",
            " 8   steps           231637 non-null  object\n",
            " 9   description     226658 non-null  object\n",
            " 10  ingredients     231637 non-null  object\n",
            " 11  n_ingredients   231637 non-null  int64 \n",
            "dtypes: int64(5), object(7)\n",
            "memory usage: 21.2+ MB\n"
          ]
        }
      ],
      "source": [
        "recipe_data.info()"
      ]
    },
    {
      "cell_type": "code",
      "execution_count": 10,
      "metadata": {
        "id": "mJNL1d1SmRpj"
      },
      "outputs": [],
      "source": [
        "recipe_data = recipe_data.rename(columns={\"id\": \"recipe_id\"})"
      ]
    },
    {
      "cell_type": "code",
      "execution_count": 11,
      "metadata": {
        "colab": {
          "base_uri": "https://localhost:8080/"
        },
        "id": "Ww7tHrQIXP9v",
        "outputId": "80e0b3c3-fe76-4e96-fadd-a64b993c0807"
      },
      "outputs": [
        {
          "output_type": "stream",
          "name": "stdout",
          "text": [
            "226570\n",
            "231637\n"
          ]
        }
      ],
      "source": [
        "print(len(user_data['user_id'].unique()))\n",
        "print(len(recipe_data['recipe_id'].unique()))"
      ]
    },
    {
      "cell_type": "markdown",
      "metadata": {
        "id": "LrwzDUnnXabo"
      },
      "source": [
        "With 226,570 users and 231,637 recipes, there are less users than there are recipes. Therefore, it is probably best for our recommender system to be user-user based."
      ]
    },
    {
      "cell_type": "markdown",
      "metadata": {
        "id": "4jvow_V8UA5g"
      },
      "source": [
        "Dropping the columns I know I won't be working with:"
      ]
    },
    {
      "cell_type": "code",
      "execution_count": 12,
      "metadata": {
        "id": "XC2f4PchasSF"
      },
      "outputs": [],
      "source": [
        "user_recipe_ratings = user_data.drop(columns=['review', 'date'])"
      ]
    },
    {
      "cell_type": "code",
      "execution_count": 13,
      "metadata": {
        "id": "UR-n_aALc49U"
      },
      "outputs": [],
      "source": [
        "recipe_data = recipe_data.drop(columns=['contributor_id', 'submitted', 'nutrition', 'steps', 'minutes', 'n_steps', 'description', 'n_ingredients'])\n",
        "recipe_data = recipe_data.rename(columns={\"id\": \"recipe_id\"})"
      ]
    },
    {
      "cell_type": "code",
      "execution_count": 14,
      "metadata": {
        "id": "fwRZpIxKI2XW"
      },
      "outputs": [],
      "source": [
        "# Converting id values to strings to be compatible for\n",
        "# later use with tensorflow\n",
        "user_data['recipe_id'] = user_data['recipe_id'].astype(str)\n",
        "recipe_data['recipe_id'] = recipe_data['recipe_id'].astype(str)\n",
        "user_data['user_id'] = user_data['user_id'].astype(str)"
      ]
    },
    {
      "cell_type": "code",
      "execution_count": 15,
      "metadata": {
        "id": "CPzRDvd5fqcb"
      },
      "outputs": [],
      "source": [
        "# Making sure text features are strings so that they can be\n",
        "# cleaned appropriately\n",
        "recipe_data['name'] = recipe_data['name'].astype(str)\n",
        "#recipe_data['description'] = recipe_data['description'].astype(str)\n",
        "recipe_data['tags'] = recipe_data['tags'].astype(str)"
      ]
    },
    {
      "cell_type": "code",
      "execution_count": 16,
      "metadata": {
        "colab": {
          "base_uri": "https://localhost:8080/"
        },
        "id": "vpRMcgoMdjTt",
        "outputId": "0effeb96-b7cc-4edf-a650-7223176f3359"
      },
      "outputs": [
        {
          "output_type": "stream",
          "name": "stderr",
          "text": [
            "[nltk_data] Downloading package stopwords to /root/nltk_data...\n",
            "[nltk_data]   Unzipping corpora/stopwords.zip.\n"
          ]
        }
      ],
      "source": [
        "\n",
        "# Creating a function to perform cleaning steps at once\n",
        "# (Removes numbers and unnecessary characters,\n",
        "# makes all letters lowercase, removes stopwords)\n",
        "nltk.download('stopwords')\n",
        "stopwords_list = stopwords.words('english')\n",
        "\n",
        "no_bad_chars = re.compile('[!\\\"#$%&()*+-./:;<=>?@[\\]^_`{|}~\\n - ]')\n",
        "no_nums = re.compile('[\\d-]')\n",
        "\n",
        "def clean_text(text):\n",
        "    text = no_nums.sub('', text)\n",
        "    text = no_bad_chars.sub(' ', text)\n",
        "    text = text.lower()\n",
        "    text = ' '.join(word for word in text.split() if word not in stopwords_list)\n",
        "    return text"
      ]
    },
    {
      "cell_type": "code",
      "execution_count": 17,
      "metadata": {
        "colab": {
          "base_uri": "https://localhost:8080/",
          "height": 345
        },
        "id": "MxDlkdWTezSD",
        "outputId": "442a8835-282e-4cb8-cfb8-9dfa9e0f85ae"
      },
      "outputs": [
        {
          "output_type": "execute_result",
          "data": {
            "text/plain": [
              "                                       name recipe_id  \\\n",
              "0  arriba baked winter squash mexican style    137739   \n",
              "1             bit different breakfast pizza     31490   \n",
              "2                             kitchen chili    112140   \n",
              "3                         alouette potatoes     59389   \n",
              "4              amish tomato ketchup canning     44061   \n",
              "\n",
              "                                                tags  \\\n",
              "0  'minutesorless' 'timetomake' 'course' 'maining...   \n",
              "1  'minutesorless' 'timetomake' 'course' 'maining...   \n",
              "2  'timetomake' 'course' 'preparation' 'maindish'...   \n",
              "3  'minutesorless' 'timetomake' 'course' 'maining...   \n",
              "4  'weeknight' 'timetomake' 'course' 'mainingredi...   \n",
              "\n",
              "                                         ingredients  \n",
              "0  ['winter squash', 'mexican seasoning', 'mixed ...  \n",
              "1  ['prepared pizza crust', 'sausage patty', 'egg...  \n",
              "2  ['ground beef', 'yellow onions', 'diced tomato...  \n",
              "3  ['spreadable cheese with garlic and herbs', 'n...  \n",
              "4  ['tomato juice', 'apple cider vinegar', 'sugar...  "
            ],
            "text/html": [
              "\n",
              "  <div id=\"df-584b98f3-ba7c-4beb-936f-2ee94de50775\" class=\"colab-df-container\">\n",
              "    <div>\n",
              "<style scoped>\n",
              "    .dataframe tbody tr th:only-of-type {\n",
              "        vertical-align: middle;\n",
              "    }\n",
              "\n",
              "    .dataframe tbody tr th {\n",
              "        vertical-align: top;\n",
              "    }\n",
              "\n",
              "    .dataframe thead th {\n",
              "        text-align: right;\n",
              "    }\n",
              "</style>\n",
              "<table border=\"1\" class=\"dataframe\">\n",
              "  <thead>\n",
              "    <tr style=\"text-align: right;\">\n",
              "      <th></th>\n",
              "      <th>name</th>\n",
              "      <th>recipe_id</th>\n",
              "      <th>tags</th>\n",
              "      <th>ingredients</th>\n",
              "    </tr>\n",
              "  </thead>\n",
              "  <tbody>\n",
              "    <tr>\n",
              "      <th>0</th>\n",
              "      <td>arriba baked winter squash mexican style</td>\n",
              "      <td>137739</td>\n",
              "      <td>'minutesorless' 'timetomake' 'course' 'maining...</td>\n",
              "      <td>['winter squash', 'mexican seasoning', 'mixed ...</td>\n",
              "    </tr>\n",
              "    <tr>\n",
              "      <th>1</th>\n",
              "      <td>bit different breakfast pizza</td>\n",
              "      <td>31490</td>\n",
              "      <td>'minutesorless' 'timetomake' 'course' 'maining...</td>\n",
              "      <td>['prepared pizza crust', 'sausage patty', 'egg...</td>\n",
              "    </tr>\n",
              "    <tr>\n",
              "      <th>2</th>\n",
              "      <td>kitchen chili</td>\n",
              "      <td>112140</td>\n",
              "      <td>'timetomake' 'course' 'preparation' 'maindish'...</td>\n",
              "      <td>['ground beef', 'yellow onions', 'diced tomato...</td>\n",
              "    </tr>\n",
              "    <tr>\n",
              "      <th>3</th>\n",
              "      <td>alouette potatoes</td>\n",
              "      <td>59389</td>\n",
              "      <td>'minutesorless' 'timetomake' 'course' 'maining...</td>\n",
              "      <td>['spreadable cheese with garlic and herbs', 'n...</td>\n",
              "    </tr>\n",
              "    <tr>\n",
              "      <th>4</th>\n",
              "      <td>amish tomato ketchup canning</td>\n",
              "      <td>44061</td>\n",
              "      <td>'weeknight' 'timetomake' 'course' 'mainingredi...</td>\n",
              "      <td>['tomato juice', 'apple cider vinegar', 'sugar...</td>\n",
              "    </tr>\n",
              "  </tbody>\n",
              "</table>\n",
              "</div>\n",
              "    <div class=\"colab-df-buttons\">\n",
              "\n",
              "  <div class=\"colab-df-container\">\n",
              "    <button class=\"colab-df-convert\" onclick=\"convertToInteractive('df-584b98f3-ba7c-4beb-936f-2ee94de50775')\"\n",
              "            title=\"Convert this dataframe to an interactive table.\"\n",
              "            style=\"display:none;\">\n",
              "\n",
              "  <svg xmlns=\"http://www.w3.org/2000/svg\" height=\"24px\" viewBox=\"0 -960 960 960\">\n",
              "    <path d=\"M120-120v-720h720v720H120Zm60-500h600v-160H180v160Zm220 220h160v-160H400v160Zm0 220h160v-160H400v160ZM180-400h160v-160H180v160Zm440 0h160v-160H620v160ZM180-180h160v-160H180v160Zm440 0h160v-160H620v160Z\"/>\n",
              "  </svg>\n",
              "    </button>\n",
              "\n",
              "  <style>\n",
              "    .colab-df-container {\n",
              "      display:flex;\n",
              "      gap: 12px;\n",
              "    }\n",
              "\n",
              "    .colab-df-convert {\n",
              "      background-color: #E8F0FE;\n",
              "      border: none;\n",
              "      border-radius: 50%;\n",
              "      cursor: pointer;\n",
              "      display: none;\n",
              "      fill: #1967D2;\n",
              "      height: 32px;\n",
              "      padding: 0 0 0 0;\n",
              "      width: 32px;\n",
              "    }\n",
              "\n",
              "    .colab-df-convert:hover {\n",
              "      background-color: #E2EBFA;\n",
              "      box-shadow: 0px 1px 2px rgba(60, 64, 67, 0.3), 0px 1px 3px 1px rgba(60, 64, 67, 0.15);\n",
              "      fill: #174EA6;\n",
              "    }\n",
              "\n",
              "    .colab-df-buttons div {\n",
              "      margin-bottom: 4px;\n",
              "    }\n",
              "\n",
              "    [theme=dark] .colab-df-convert {\n",
              "      background-color: #3B4455;\n",
              "      fill: #D2E3FC;\n",
              "    }\n",
              "\n",
              "    [theme=dark] .colab-df-convert:hover {\n",
              "      background-color: #434B5C;\n",
              "      box-shadow: 0px 1px 3px 1px rgba(0, 0, 0, 0.15);\n",
              "      filter: drop-shadow(0px 1px 2px rgba(0, 0, 0, 0.3));\n",
              "      fill: #FFFFFF;\n",
              "    }\n",
              "  </style>\n",
              "\n",
              "    <script>\n",
              "      const buttonEl =\n",
              "        document.querySelector('#df-584b98f3-ba7c-4beb-936f-2ee94de50775 button.colab-df-convert');\n",
              "      buttonEl.style.display =\n",
              "        google.colab.kernel.accessAllowed ? 'block' : 'none';\n",
              "\n",
              "      async function convertToInteractive(key) {\n",
              "        const element = document.querySelector('#df-584b98f3-ba7c-4beb-936f-2ee94de50775');\n",
              "        const dataTable =\n",
              "          await google.colab.kernel.invokeFunction('convertToInteractive',\n",
              "                                                    [key], {});\n",
              "        if (!dataTable) return;\n",
              "\n",
              "        const docLinkHtml = 'Like what you see? Visit the ' +\n",
              "          '<a target=\"_blank\" href=https://colab.research.google.com/notebooks/data_table.ipynb>data table notebook</a>'\n",
              "          + ' to learn more about interactive tables.';\n",
              "        element.innerHTML = '';\n",
              "        dataTable['output_type'] = 'display_data';\n",
              "        await google.colab.output.renderOutput(dataTable, element);\n",
              "        const docLink = document.createElement('div');\n",
              "        docLink.innerHTML = docLinkHtml;\n",
              "        element.appendChild(docLink);\n",
              "      }\n",
              "    </script>\n",
              "  </div>\n",
              "\n",
              "\n",
              "<div id=\"df-d5fd2c8d-9c9c-45ae-b060-08be1be541db\">\n",
              "  <button class=\"colab-df-quickchart\" onclick=\"quickchart('df-d5fd2c8d-9c9c-45ae-b060-08be1be541db')\"\n",
              "            title=\"Suggest charts\"\n",
              "            style=\"display:none;\">\n",
              "\n",
              "<svg xmlns=\"http://www.w3.org/2000/svg\" height=\"24px\"viewBox=\"0 0 24 24\"\n",
              "     width=\"24px\">\n",
              "    <g>\n",
              "        <path d=\"M19 3H5c-1.1 0-2 .9-2 2v14c0 1.1.9 2 2 2h14c1.1 0 2-.9 2-2V5c0-1.1-.9-2-2-2zM9 17H7v-7h2v7zm4 0h-2V7h2v10zm4 0h-2v-4h2v4z\"/>\n",
              "    </g>\n",
              "</svg>\n",
              "  </button>\n",
              "\n",
              "<style>\n",
              "  .colab-df-quickchart {\n",
              "      --bg-color: #E8F0FE;\n",
              "      --fill-color: #1967D2;\n",
              "      --hover-bg-color: #E2EBFA;\n",
              "      --hover-fill-color: #174EA6;\n",
              "      --disabled-fill-color: #AAA;\n",
              "      --disabled-bg-color: #DDD;\n",
              "  }\n",
              "\n",
              "  [theme=dark] .colab-df-quickchart {\n",
              "      --bg-color: #3B4455;\n",
              "      --fill-color: #D2E3FC;\n",
              "      --hover-bg-color: #434B5C;\n",
              "      --hover-fill-color: #FFFFFF;\n",
              "      --disabled-bg-color: #3B4455;\n",
              "      --disabled-fill-color: #666;\n",
              "  }\n",
              "\n",
              "  .colab-df-quickchart {\n",
              "    background-color: var(--bg-color);\n",
              "    border: none;\n",
              "    border-radius: 50%;\n",
              "    cursor: pointer;\n",
              "    display: none;\n",
              "    fill: var(--fill-color);\n",
              "    height: 32px;\n",
              "    padding: 0;\n",
              "    width: 32px;\n",
              "  }\n",
              "\n",
              "  .colab-df-quickchart:hover {\n",
              "    background-color: var(--hover-bg-color);\n",
              "    box-shadow: 0 1px 2px rgba(60, 64, 67, 0.3), 0 1px 3px 1px rgba(60, 64, 67, 0.15);\n",
              "    fill: var(--button-hover-fill-color);\n",
              "  }\n",
              "\n",
              "  .colab-df-quickchart-complete:disabled,\n",
              "  .colab-df-quickchart-complete:disabled:hover {\n",
              "    background-color: var(--disabled-bg-color);\n",
              "    fill: var(--disabled-fill-color);\n",
              "    box-shadow: none;\n",
              "  }\n",
              "\n",
              "  .colab-df-spinner {\n",
              "    border: 2px solid var(--fill-color);\n",
              "    border-color: transparent;\n",
              "    border-bottom-color: var(--fill-color);\n",
              "    animation:\n",
              "      spin 1s steps(1) infinite;\n",
              "  }\n",
              "\n",
              "  @keyframes spin {\n",
              "    0% {\n",
              "      border-color: transparent;\n",
              "      border-bottom-color: var(--fill-color);\n",
              "      border-left-color: var(--fill-color);\n",
              "    }\n",
              "    20% {\n",
              "      border-color: transparent;\n",
              "      border-left-color: var(--fill-color);\n",
              "      border-top-color: var(--fill-color);\n",
              "    }\n",
              "    30% {\n",
              "      border-color: transparent;\n",
              "      border-left-color: var(--fill-color);\n",
              "      border-top-color: var(--fill-color);\n",
              "      border-right-color: var(--fill-color);\n",
              "    }\n",
              "    40% {\n",
              "      border-color: transparent;\n",
              "      border-right-color: var(--fill-color);\n",
              "      border-top-color: var(--fill-color);\n",
              "    }\n",
              "    60% {\n",
              "      border-color: transparent;\n",
              "      border-right-color: var(--fill-color);\n",
              "    }\n",
              "    80% {\n",
              "      border-color: transparent;\n",
              "      border-right-color: var(--fill-color);\n",
              "      border-bottom-color: var(--fill-color);\n",
              "    }\n",
              "    90% {\n",
              "      border-color: transparent;\n",
              "      border-bottom-color: var(--fill-color);\n",
              "    }\n",
              "  }\n",
              "</style>\n",
              "\n",
              "  <script>\n",
              "    async function quickchart(key) {\n",
              "      const quickchartButtonEl =\n",
              "        document.querySelector('#' + key + ' button');\n",
              "      quickchartButtonEl.disabled = true;  // To prevent multiple clicks.\n",
              "      quickchartButtonEl.classList.add('colab-df-spinner');\n",
              "      try {\n",
              "        const charts = await google.colab.kernel.invokeFunction(\n",
              "            'suggestCharts', [key], {});\n",
              "      } catch (error) {\n",
              "        console.error('Error during call to suggestCharts:', error);\n",
              "      }\n",
              "      quickchartButtonEl.classList.remove('colab-df-spinner');\n",
              "      quickchartButtonEl.classList.add('colab-df-quickchart-complete');\n",
              "    }\n",
              "    (() => {\n",
              "      let quickchartButtonEl =\n",
              "        document.querySelector('#df-d5fd2c8d-9c9c-45ae-b060-08be1be541db button');\n",
              "      quickchartButtonEl.style.display =\n",
              "        google.colab.kernel.accessAllowed ? 'block' : 'none';\n",
              "    })();\n",
              "  </script>\n",
              "</div>\n",
              "\n",
              "    </div>\n",
              "  </div>\n"
            ]
          },
          "metadata": {},
          "execution_count": 17
        }
      ],
      "source": [
        "#Applying text cleaning function to text columns\n",
        "recipe_data_cleaned = recipe_data.copy()\n",
        "recipe_data_cleaned['name'] = (recipe_data['name']).apply(clean_text)\n",
        "#recipe_data_cleaned['description'] = (recipe_data['description']).apply(clean_text)\n",
        "recipe_data_cleaned['tags'] = (recipe_data['tags']).apply(clean_text)\n",
        "recipe_data_cleaned.head()"
      ]
    },
    {
      "cell_type": "markdown",
      "metadata": {
        "id": "-znpgiEyVAsR"
      },
      "source": [
        "Feature Engineering to categorize each recipe as different diet types (Vegetarian, Vegan, and/or Gluten-Free):"
      ]
    },
    {
      "cell_type": "code",
      "execution_count": 18,
      "metadata": {
        "id": "5ADcnDC7djkz"
      },
      "outputs": [],
      "source": [
        "# creating a new column to classify recipes as gluten-free or not\n",
        "GF = []\n",
        "#tags column contains the most information on gluten-free recipes\n",
        "#(see miscellaneous notebook)\n",
        "for row in recipe_data_cleaned['tags']:\n",
        "    if \"gluten-free\" in row : GF.append(\"Gluten-Free\")\n",
        "    elif \"gluten free\" in row : GF.append(\"Gluten-Free\")\n",
        "    else: GF.append(\"None\")"
      ]
    },
    {
      "cell_type": "code",
      "execution_count": 19,
      "metadata": {
        "id": "77zpR5eldjpy"
      },
      "outputs": [],
      "source": [
        "recipe_data_cleaned['GF'] = GF"
      ]
    },
    {
      "cell_type": "code",
      "execution_count": 20,
      "metadata": {
        "id": "1mNiOMORdjnL"
      },
      "outputs": [],
      "source": [
        "#Ingredient lists for diet filtering:\n",
        "vegan = ['ham', 'beef', 'meat', 'chicken', 'pork', 'bacon', 'sausage', 'lamb', 'veal', 'turkey', 'steak', 'rib', 'frankfurter', 'duck', 'poultry', 'goat', 'liver', 'hen', 'quail', 'brisket', 'goose','fish', 'shrimp', 'seafood', 'crab', 'lobster', 'clam', 'oyster', 'scallop', 'mussel', 'cod', 'salmon', 'halibut', 'shellfish', 'roe', 'tuna', 'caviar', 'pollock', 'yellowtail', 'squid', 'calamari', 'octopus', 'crawfish', 'crayfish', 'sardine', 'trout', 'flounder', 'anchovy', 'bass', 'haddock', 'sole','egg', 'honey','milk', 'cheese', 'yogurt', 'mayonnaise', 'butter', 'margarine', 'cream']\n",
        "\n",
        "vegetarian = ['ham', 'beef', 'meat', 'chicken', 'pork', 'bacon', 'sausage', 'lamb', 'veal', 'turkey', 'steak', 'rib', 'frankfurter', 'duck', 'poultry', 'goat', 'liver', 'hen', 'quail', 'brisket', 'goose','fish', 'shrimp', 'seafood', 'crab', 'lobster', 'clam', 'oyster', 'scallop', 'mussel', 'cod', 'salmon', 'halibut', 'shellfish', 'roe', 'tuna', 'caviar', 'pollock', 'yellowtail', 'squid', 'calamari', 'octopus', 'crawfish', 'crayfish', 'sardine', 'trout', 'flounder', 'anchovy', 'bass', 'haddock', 'sole']"
      ]
    },
    {
      "cell_type": "code",
      "execution_count": 21,
      "metadata": {
        "id": "8Oqhh_dUdxP2"
      },
      "outputs": [],
      "source": [
        "# creating two new columns to classify recipes as vegetarian or not\n",
        "# and as vegan or not:\n",
        "\n",
        "recipe_data_cleaned['vegetarian'] = None\n",
        "recipe_data_cleaned['vegan'] = None"
      ]
    },
    {
      "cell_type": "code",
      "execution_count": 22,
      "metadata": {
        "id": "YTErW8RpdxSM"
      },
      "outputs": [],
      "source": [
        "# Filtering through the 'ingedients' column for ingredients that\n",
        "# aren' t vegetarian or vegan\n",
        "vege_pattern = '|'.join(vegetarian)\n",
        "vegan_pattern = '|'.join(vegan)\n",
        "\n",
        "\n",
        "recipe_data_cleaned.vegetarian = recipe_data_cleaned.ingredients.str.contains(vege_pattern)\n",
        "recipe_data_cleaned.vegan = recipe_data_cleaned.ingredients.str.contains(vegan_pattern)"
      ]
    },
    {
      "cell_type": "code",
      "execution_count": 23,
      "metadata": {
        "id": "ilb7IYdkd7jj"
      },
      "outputs": [],
      "source": [
        "# Changing Boolean values to 0 and 1 for easy counting later\n",
        "recipe_data_cleaned['vegetarian'] = recipe_data_cleaned['vegetarian'].astype(str)\n",
        "recipe_data_cleaned['vegetarian'] = recipe_data_cleaned['vegetarian'].replace({'False': 'Vegetarian', 'True': 'None'})"
      ]
    },
    {
      "cell_type": "code",
      "execution_count": 24,
      "metadata": {
        "id": "Pub90-vcd-tD"
      },
      "outputs": [],
      "source": [
        "recipe_data_cleaned['vegan'] = recipe_data_cleaned['vegan'].astype(str)\n",
        "recipe_data_cleaned['vegan'] = recipe_data_cleaned['vegan'].replace({'False': 'Vegan', 'True': 'None'})"
      ]
    },
    {
      "cell_type": "code",
      "execution_count": 25,
      "metadata": {
        "id": "wY9-u_gTeKLb"
      },
      "outputs": [],
      "source": [
        "#Making column names match and merging dfs to classify user diets based on the recipes they've used\n",
        "recipe_data_cleaned = recipe_data_cleaned.rename(columns = {'id': 'recipe_id'})\n",
        "\n",
        "#user_diets = pd.merge(user_data, recipe_data_cleaned, on='recipe_id', how='left')"
      ]
    },
    {
      "cell_type": "code",
      "source": [
        "#user_diets.head()"
      ],
      "metadata": {
        "id": "v70NMZYeUBeR"
      },
      "execution_count": 26,
      "outputs": []
    },
    {
      "cell_type": "code",
      "source": [
        "recipe_data_cleaned['diets_combined'] = recipe_data_cleaned[['vegetarian', 'vegan', 'GF']].values.tolist()\n",
        "recipe_data_cleaned = recipe_data_cleaned.drop(columns=['GF', 'vegetarian', 'vegan'])\n",
        "recipe_data_cleaned.head()"
      ],
      "metadata": {
        "colab": {
          "base_uri": "https://localhost:8080/",
          "height": 449
        },
        "id": "vmJftJcqUHae",
        "outputId": "ff5be641-436d-4f48-d184-97803065cccf"
      },
      "execution_count": 27,
      "outputs": [
        {
          "output_type": "execute_result",
          "data": {
            "text/plain": [
              "                                       name recipe_id  \\\n",
              "0  arriba baked winter squash mexican style    137739   \n",
              "1             bit different breakfast pizza     31490   \n",
              "2                             kitchen chili    112140   \n",
              "3                         alouette potatoes     59389   \n",
              "4              amish tomato ketchup canning     44061   \n",
              "\n",
              "                                                tags  \\\n",
              "0  'minutesorless' 'timetomake' 'course' 'maining...   \n",
              "1  'minutesorless' 'timetomake' 'course' 'maining...   \n",
              "2  'timetomake' 'course' 'preparation' 'maindish'...   \n",
              "3  'minutesorless' 'timetomake' 'course' 'maining...   \n",
              "4  'weeknight' 'timetomake' 'course' 'mainingredi...   \n",
              "\n",
              "                                         ingredients  \\\n",
              "0  ['winter squash', 'mexican seasoning', 'mixed ...   \n",
              "1  ['prepared pizza crust', 'sausage patty', 'egg...   \n",
              "2  ['ground beef', 'yellow onions', 'diced tomato...   \n",
              "3  ['spreadable cheese with garlic and herbs', 'n...   \n",
              "4  ['tomato juice', 'apple cider vinegar', 'sugar...   \n",
              "\n",
              "              diets_combined  \n",
              "0   [Vegetarian, None, None]  \n",
              "1         [None, None, None]  \n",
              "2         [None, None, None]  \n",
              "3   [Vegetarian, None, None]  \n",
              "4  [Vegetarian, Vegan, None]  "
            ],
            "text/html": [
              "\n",
              "  <div id=\"df-2bb33aaa-6333-4782-923e-7bce67d87500\" class=\"colab-df-container\">\n",
              "    <div>\n",
              "<style scoped>\n",
              "    .dataframe tbody tr th:only-of-type {\n",
              "        vertical-align: middle;\n",
              "    }\n",
              "\n",
              "    .dataframe tbody tr th {\n",
              "        vertical-align: top;\n",
              "    }\n",
              "\n",
              "    .dataframe thead th {\n",
              "        text-align: right;\n",
              "    }\n",
              "</style>\n",
              "<table border=\"1\" class=\"dataframe\">\n",
              "  <thead>\n",
              "    <tr style=\"text-align: right;\">\n",
              "      <th></th>\n",
              "      <th>name</th>\n",
              "      <th>recipe_id</th>\n",
              "      <th>tags</th>\n",
              "      <th>ingredients</th>\n",
              "      <th>diets_combined</th>\n",
              "    </tr>\n",
              "  </thead>\n",
              "  <tbody>\n",
              "    <tr>\n",
              "      <th>0</th>\n",
              "      <td>arriba baked winter squash mexican style</td>\n",
              "      <td>137739</td>\n",
              "      <td>'minutesorless' 'timetomake' 'course' 'maining...</td>\n",
              "      <td>['winter squash', 'mexican seasoning', 'mixed ...</td>\n",
              "      <td>[Vegetarian, None, None]</td>\n",
              "    </tr>\n",
              "    <tr>\n",
              "      <th>1</th>\n",
              "      <td>bit different breakfast pizza</td>\n",
              "      <td>31490</td>\n",
              "      <td>'minutesorless' 'timetomake' 'course' 'maining...</td>\n",
              "      <td>['prepared pizza crust', 'sausage patty', 'egg...</td>\n",
              "      <td>[None, None, None]</td>\n",
              "    </tr>\n",
              "    <tr>\n",
              "      <th>2</th>\n",
              "      <td>kitchen chili</td>\n",
              "      <td>112140</td>\n",
              "      <td>'timetomake' 'course' 'preparation' 'maindish'...</td>\n",
              "      <td>['ground beef', 'yellow onions', 'diced tomato...</td>\n",
              "      <td>[None, None, None]</td>\n",
              "    </tr>\n",
              "    <tr>\n",
              "      <th>3</th>\n",
              "      <td>alouette potatoes</td>\n",
              "      <td>59389</td>\n",
              "      <td>'minutesorless' 'timetomake' 'course' 'maining...</td>\n",
              "      <td>['spreadable cheese with garlic and herbs', 'n...</td>\n",
              "      <td>[Vegetarian, None, None]</td>\n",
              "    </tr>\n",
              "    <tr>\n",
              "      <th>4</th>\n",
              "      <td>amish tomato ketchup canning</td>\n",
              "      <td>44061</td>\n",
              "      <td>'weeknight' 'timetomake' 'course' 'mainingredi...</td>\n",
              "      <td>['tomato juice', 'apple cider vinegar', 'sugar...</td>\n",
              "      <td>[Vegetarian, Vegan, None]</td>\n",
              "    </tr>\n",
              "  </tbody>\n",
              "</table>\n",
              "</div>\n",
              "    <div class=\"colab-df-buttons\">\n",
              "\n",
              "  <div class=\"colab-df-container\">\n",
              "    <button class=\"colab-df-convert\" onclick=\"convertToInteractive('df-2bb33aaa-6333-4782-923e-7bce67d87500')\"\n",
              "            title=\"Convert this dataframe to an interactive table.\"\n",
              "            style=\"display:none;\">\n",
              "\n",
              "  <svg xmlns=\"http://www.w3.org/2000/svg\" height=\"24px\" viewBox=\"0 -960 960 960\">\n",
              "    <path d=\"M120-120v-720h720v720H120Zm60-500h600v-160H180v160Zm220 220h160v-160H400v160Zm0 220h160v-160H400v160ZM180-400h160v-160H180v160Zm440 0h160v-160H620v160ZM180-180h160v-160H180v160Zm440 0h160v-160H620v160Z\"/>\n",
              "  </svg>\n",
              "    </button>\n",
              "\n",
              "  <style>\n",
              "    .colab-df-container {\n",
              "      display:flex;\n",
              "      gap: 12px;\n",
              "    }\n",
              "\n",
              "    .colab-df-convert {\n",
              "      background-color: #E8F0FE;\n",
              "      border: none;\n",
              "      border-radius: 50%;\n",
              "      cursor: pointer;\n",
              "      display: none;\n",
              "      fill: #1967D2;\n",
              "      height: 32px;\n",
              "      padding: 0 0 0 0;\n",
              "      width: 32px;\n",
              "    }\n",
              "\n",
              "    .colab-df-convert:hover {\n",
              "      background-color: #E2EBFA;\n",
              "      box-shadow: 0px 1px 2px rgba(60, 64, 67, 0.3), 0px 1px 3px 1px rgba(60, 64, 67, 0.15);\n",
              "      fill: #174EA6;\n",
              "    }\n",
              "\n",
              "    .colab-df-buttons div {\n",
              "      margin-bottom: 4px;\n",
              "    }\n",
              "\n",
              "    [theme=dark] .colab-df-convert {\n",
              "      background-color: #3B4455;\n",
              "      fill: #D2E3FC;\n",
              "    }\n",
              "\n",
              "    [theme=dark] .colab-df-convert:hover {\n",
              "      background-color: #434B5C;\n",
              "      box-shadow: 0px 1px 3px 1px rgba(0, 0, 0, 0.15);\n",
              "      filter: drop-shadow(0px 1px 2px rgba(0, 0, 0, 0.3));\n",
              "      fill: #FFFFFF;\n",
              "    }\n",
              "  </style>\n",
              "\n",
              "    <script>\n",
              "      const buttonEl =\n",
              "        document.querySelector('#df-2bb33aaa-6333-4782-923e-7bce67d87500 button.colab-df-convert');\n",
              "      buttonEl.style.display =\n",
              "        google.colab.kernel.accessAllowed ? 'block' : 'none';\n",
              "\n",
              "      async function convertToInteractive(key) {\n",
              "        const element = document.querySelector('#df-2bb33aaa-6333-4782-923e-7bce67d87500');\n",
              "        const dataTable =\n",
              "          await google.colab.kernel.invokeFunction('convertToInteractive',\n",
              "                                                    [key], {});\n",
              "        if (!dataTable) return;\n",
              "\n",
              "        const docLinkHtml = 'Like what you see? Visit the ' +\n",
              "          '<a target=\"_blank\" href=https://colab.research.google.com/notebooks/data_table.ipynb>data table notebook</a>'\n",
              "          + ' to learn more about interactive tables.';\n",
              "        element.innerHTML = '';\n",
              "        dataTable['output_type'] = 'display_data';\n",
              "        await google.colab.output.renderOutput(dataTable, element);\n",
              "        const docLink = document.createElement('div');\n",
              "        docLink.innerHTML = docLinkHtml;\n",
              "        element.appendChild(docLink);\n",
              "      }\n",
              "    </script>\n",
              "  </div>\n",
              "\n",
              "\n",
              "<div id=\"df-06559aeb-ac8f-41e2-b742-7a1515645253\">\n",
              "  <button class=\"colab-df-quickchart\" onclick=\"quickchart('df-06559aeb-ac8f-41e2-b742-7a1515645253')\"\n",
              "            title=\"Suggest charts\"\n",
              "            style=\"display:none;\">\n",
              "\n",
              "<svg xmlns=\"http://www.w3.org/2000/svg\" height=\"24px\"viewBox=\"0 0 24 24\"\n",
              "     width=\"24px\">\n",
              "    <g>\n",
              "        <path d=\"M19 3H5c-1.1 0-2 .9-2 2v14c0 1.1.9 2 2 2h14c1.1 0 2-.9 2-2V5c0-1.1-.9-2-2-2zM9 17H7v-7h2v7zm4 0h-2V7h2v10zm4 0h-2v-4h2v4z\"/>\n",
              "    </g>\n",
              "</svg>\n",
              "  </button>\n",
              "\n",
              "<style>\n",
              "  .colab-df-quickchart {\n",
              "      --bg-color: #E8F0FE;\n",
              "      --fill-color: #1967D2;\n",
              "      --hover-bg-color: #E2EBFA;\n",
              "      --hover-fill-color: #174EA6;\n",
              "      --disabled-fill-color: #AAA;\n",
              "      --disabled-bg-color: #DDD;\n",
              "  }\n",
              "\n",
              "  [theme=dark] .colab-df-quickchart {\n",
              "      --bg-color: #3B4455;\n",
              "      --fill-color: #D2E3FC;\n",
              "      --hover-bg-color: #434B5C;\n",
              "      --hover-fill-color: #FFFFFF;\n",
              "      --disabled-bg-color: #3B4455;\n",
              "      --disabled-fill-color: #666;\n",
              "  }\n",
              "\n",
              "  .colab-df-quickchart {\n",
              "    background-color: var(--bg-color);\n",
              "    border: none;\n",
              "    border-radius: 50%;\n",
              "    cursor: pointer;\n",
              "    display: none;\n",
              "    fill: var(--fill-color);\n",
              "    height: 32px;\n",
              "    padding: 0;\n",
              "    width: 32px;\n",
              "  }\n",
              "\n",
              "  .colab-df-quickchart:hover {\n",
              "    background-color: var(--hover-bg-color);\n",
              "    box-shadow: 0 1px 2px rgba(60, 64, 67, 0.3), 0 1px 3px 1px rgba(60, 64, 67, 0.15);\n",
              "    fill: var(--button-hover-fill-color);\n",
              "  }\n",
              "\n",
              "  .colab-df-quickchart-complete:disabled,\n",
              "  .colab-df-quickchart-complete:disabled:hover {\n",
              "    background-color: var(--disabled-bg-color);\n",
              "    fill: var(--disabled-fill-color);\n",
              "    box-shadow: none;\n",
              "  }\n",
              "\n",
              "  .colab-df-spinner {\n",
              "    border: 2px solid var(--fill-color);\n",
              "    border-color: transparent;\n",
              "    border-bottom-color: var(--fill-color);\n",
              "    animation:\n",
              "      spin 1s steps(1) infinite;\n",
              "  }\n",
              "\n",
              "  @keyframes spin {\n",
              "    0% {\n",
              "      border-color: transparent;\n",
              "      border-bottom-color: var(--fill-color);\n",
              "      border-left-color: var(--fill-color);\n",
              "    }\n",
              "    20% {\n",
              "      border-color: transparent;\n",
              "      border-left-color: var(--fill-color);\n",
              "      border-top-color: var(--fill-color);\n",
              "    }\n",
              "    30% {\n",
              "      border-color: transparent;\n",
              "      border-left-color: var(--fill-color);\n",
              "      border-top-color: var(--fill-color);\n",
              "      border-right-color: var(--fill-color);\n",
              "    }\n",
              "    40% {\n",
              "      border-color: transparent;\n",
              "      border-right-color: var(--fill-color);\n",
              "      border-top-color: var(--fill-color);\n",
              "    }\n",
              "    60% {\n",
              "      border-color: transparent;\n",
              "      border-right-color: var(--fill-color);\n",
              "    }\n",
              "    80% {\n",
              "      border-color: transparent;\n",
              "      border-right-color: var(--fill-color);\n",
              "      border-bottom-color: var(--fill-color);\n",
              "    }\n",
              "    90% {\n",
              "      border-color: transparent;\n",
              "      border-bottom-color: var(--fill-color);\n",
              "    }\n",
              "  }\n",
              "</style>\n",
              "\n",
              "  <script>\n",
              "    async function quickchart(key) {\n",
              "      const quickchartButtonEl =\n",
              "        document.querySelector('#' + key + ' button');\n",
              "      quickchartButtonEl.disabled = true;  // To prevent multiple clicks.\n",
              "      quickchartButtonEl.classList.add('colab-df-spinner');\n",
              "      try {\n",
              "        const charts = await google.colab.kernel.invokeFunction(\n",
              "            'suggestCharts', [key], {});\n",
              "      } catch (error) {\n",
              "        console.error('Error during call to suggestCharts:', error);\n",
              "      }\n",
              "      quickchartButtonEl.classList.remove('colab-df-spinner');\n",
              "      quickchartButtonEl.classList.add('colab-df-quickchart-complete');\n",
              "    }\n",
              "    (() => {\n",
              "      let quickchartButtonEl =\n",
              "        document.querySelector('#df-06559aeb-ac8f-41e2-b742-7a1515645253 button');\n",
              "      quickchartButtonEl.style.display =\n",
              "        google.colab.kernel.accessAllowed ? 'block' : 'none';\n",
              "    })();\n",
              "  </script>\n",
              "</div>\n",
              "\n",
              "    </div>\n",
              "  </div>\n"
            ]
          },
          "metadata": {},
          "execution_count": 27
        }
      ]
    },
    {
      "cell_type": "code",
      "execution_count": 28,
      "metadata": {
        "id": "WYAGtQE4eKg1"
      },
      "outputs": [],
      "source": [
        "# #combining the diet-classified recipe data with the user data based on which recipes each user has rated\n",
        "\n",
        "# user_diets = (user_diets.groupby(['user_id']).agg({'recipe_id': lambda x: x.tolist(), 'rating': lambda x: x.tolist(), 'GF': sum, 'vegetarian':sum, 'vegan': sum}).reset_index())\n",
        "# user_diets.head()"
      ]
    },
    {
      "cell_type": "code",
      "execution_count": 29,
      "metadata": {
        "id": "se3JFmSeeKj_"
      },
      "outputs": [],
      "source": [
        "# # creating new columns to classify users as the different diet types\n",
        "# user_diets['is_vegetarian'] = None\n",
        "# user_diets['is_vegan'] = None\n",
        "# user_diets['is_GF'] = None\n",
        "# user_diets.head()"
      ]
    },
    {
      "cell_type": "code",
      "execution_count": 30,
      "metadata": {
        "id": "h1Dz8Xq1ejw7"
      },
      "outputs": [],
      "source": [
        "# #getting a total count of the recipes that each user has rated\n",
        "# user_diets['recipe_totals'] = user_diets['recipe_id'].str.len()"
      ]
    },
    {
      "cell_type": "code",
      "execution_count": 31,
      "metadata": {
        "id": "bh05cCozeoUY"
      },
      "outputs": [],
      "source": [
        "# #classifying a user as vegetarian if at least 75% of the recipes they've rated are vegetarian\n",
        "# user_diets['is_vegetarian'] = np.where(user_diets['vegetarian'] >= ((user_diets['recipe_totals'])*(.75)), 1, 0)\n"
      ]
    },
    {
      "cell_type": "code",
      "execution_count": 32,
      "metadata": {
        "id": "wP0O5-oJeoaC"
      },
      "outputs": [],
      "source": [
        "# #classifying a user as vegan if at least 75% of the recipes they've rated are vegan\n",
        "# user_diets['is_vegan'] = np.where(user_diets['vegan'] >= ((user_diets['recipe_totals'])*(.75)), 1, 0)"
      ]
    },
    {
      "cell_type": "code",
      "execution_count": 33,
      "metadata": {
        "id": "YR5wFhOfet_f"
      },
      "outputs": [],
      "source": [
        "# #classifying a user as gluten-free if at least 75% of the recipes they've rated are gluten-free\n",
        "# user_diets['is_GF'] = np.where(user_diets['GF'] >= ((user_diets['recipe_totals'])*(.75)), 1, 0)"
      ]
    },
    {
      "cell_type": "markdown",
      "metadata": {
        "id": "v2exifRKfIxS"
      },
      "source": [
        "### Modeling"
      ]
    },
    {
      "cell_type": "markdown",
      "metadata": {
        "id": "LYxJ4Ds1XCq0"
      },
      "source": [
        "Creating a baseline model without extra features ?"
      ]
    },
    {
      "cell_type": "code",
      "source": [
        "recipe_data_cleaned['diets_combined'] = recipe_data_cleaned['diets_combined'].astype(str)\n",
        "recipe_data_cleaned['recipe_id'] = recipe_data_cleaned['recipe_id'].astype(str)\n",
        "recipe_data_cleaned['name'] = recipe_data_cleaned['name'].astype(str)\n",
        "user_recipe_ratings['user_id'] = user_recipe_ratings['user_id'].astype(str)\n",
        "user_recipe_ratings['recipe_id'] = user_recipe_ratings['recipe_id'].astype(str)"
      ],
      "metadata": {
        "id": "cPMq1LL_V1qI"
      },
      "execution_count": 34,
      "outputs": []
    },
    {
      "cell_type": "code",
      "source": [
        "user_recipe_ratings.info()"
      ],
      "metadata": {
        "colab": {
          "base_uri": "https://localhost:8080/"
        },
        "id": "910v4tfG8rn7",
        "outputId": "74f2b1ca-4355-427c-ac20-f696cbea1f21"
      },
      "execution_count": 35,
      "outputs": [
        {
          "output_type": "stream",
          "name": "stdout",
          "text": [
            "<class 'pandas.core.frame.DataFrame'>\n",
            "RangeIndex: 1132367 entries, 0 to 1132366\n",
            "Data columns (total 3 columns):\n",
            " #   Column     Non-Null Count    Dtype \n",
            "---  ------     --------------    ----- \n",
            " 0   user_id    1132367 non-null  object\n",
            " 1   recipe_id  1132367 non-null  object\n",
            " 2   rating     1132367 non-null  int64 \n",
            "dtypes: int64(1), object(2)\n",
            "memory usage: 25.9+ MB\n"
          ]
        }
      ]
    },
    {
      "cell_type": "code",
      "source": [
        "# Merge movie data\n",
        "merged_df = user_recipe_ratings.merge(recipe_data_cleaned, on=\"recipe_id\", how=\"left\")\n",
        "merged_df.info()"
      ],
      "metadata": {
        "colab": {
          "base_uri": "https://localhost:8080/"
        },
        "id": "cu5Hj0ja7ntc",
        "outputId": "b26e23b8-f79e-41ce-b217-bdd726fb1223"
      },
      "execution_count": 36,
      "outputs": [
        {
          "output_type": "stream",
          "name": "stdout",
          "text": [
            "<class 'pandas.core.frame.DataFrame'>\n",
            "Int64Index: 1132367 entries, 0 to 1132366\n",
            "Data columns (total 7 columns):\n",
            " #   Column          Non-Null Count    Dtype \n",
            "---  ------          --------------    ----- \n",
            " 0   user_id         1132367 non-null  object\n",
            " 1   recipe_id       1132367 non-null  object\n",
            " 2   rating          1132367 non-null  int64 \n",
            " 3   name            1132367 non-null  object\n",
            " 4   tags            1132367 non-null  object\n",
            " 5   ingredients     1132367 non-null  object\n",
            " 6   diets_combined  1132367 non-null  object\n",
            "dtypes: int64(1), object(6)\n",
            "memory usage: 69.1+ MB\n"
          ]
        }
      ]
    },
    {
      "cell_type": "code",
      "source": [
        "#merging the two relevant dataframes and turning them into a tf dataset:\n",
        "merged_ds = tf.data.Dataset.from_tensor_slices(dict(merged_df))\n",
        "\n",
        "recipes_ds = tf.data.Dataset.prefetch(merged_ds, buffer_size=tf.data.AUTOTUNE)\n"
      ],
      "metadata": {
        "id": "gpG1thvn7uFF"
      },
      "execution_count": 37,
      "outputs": []
    },
    {
      "cell_type": "code",
      "execution_count": 38,
      "metadata": {
        "id": "RNuJKQT_dczO"
      },
      "outputs": [],
      "source": [
        "# user_ds = tf.data.Dataset.from_tensor_slices(dict(user_recipe_ratings))\n",
        "\n",
        "# recipe_ds = tf.data.Dataset.from_tensor_slices(dict(recipe_data_cleaned))"
      ]
    },
    {
      "cell_type": "code",
      "execution_count": 69,
      "metadata": {
        "id": "xWUI4-1xnOuw"
      },
      "outputs": [],
      "source": [
        "#creating a multitask model\n",
        "#preparing the data\n",
        "\n",
        "\n",
        "# Select the basic features.\n",
        "user_ratings = recipes_ds.map(lambda x: {\n",
        "    #\"recipe_id\": x[\"recipe_id\"],\n",
        "    \"user_id\": x[\"user_id\"],\n",
        "    \"rating\": x[\"rating\"],\n",
        "    \"recipe_id\": x[\"recipe_id\"],\n",
        "    \"diets_combined\": x[\"diets_combined\"],\n",
        "    \"name\": x[\"name\"]})\n",
        "# })\n",
        "# recipes = recipes_ds.map(lambda x: {\n",
        "\n",
        "recipe_map = recipes_ds.map(lambda x:x[\"recipe_id\"])\n",
        "    #timestamps = np.concatenate(list(ratings.map(lambda x: x[\"timestamp\"]).batch(100)))"
      ]
    },
    {
      "cell_type": "code",
      "execution_count": 40,
      "metadata": {
        "id": "iMDMMwdZni1Q"
      },
      "outputs": [],
      "source": [
        "#preparations to build vocab and split data\n",
        "# Randomly shuffle data and split between train and test.\n",
        "# tf.random.set_seed(42)\n",
        "# shuffled = user_ratings.shuffle(100_000, seed=42, reshuffle_each_iteration=False)\n",
        "\n",
        "# train = shuffled.take(80_000)\n",
        "# test = shuffled.skip(80_000).take(20_000)\n",
        "\n",
        "recipe_ids = user_ratings.map(lambda x: x[\"recipe_id\"])\n",
        "user_ids = user_ratings.map(lambda x: x[\"user_id\"])\n",
        "names = user_ratings.map(lambda x: x[\"name\"])\n",
        "diets = user_ratings.map(lambda x: x[\"diets_combined\"])\n",
        "\n",
        "\n",
        "\n",
        "\n",
        "# diets = np.concatenate(list(recipes.map(lambda x: x[\"diets_combined\"])))\n",
        "# names = np.concatenate(list(recipes.map(lambda x: x[\"name\"])))\n",
        "\n",
        "#unique_user_ids = merge_df[\"user_id\"].unique()\n",
        "#unique_user_ids = merged_df[\"user_id\"].unique()\n",
        "# unique_recipe_ids = merged_df[\"recipe_id\"].unique()\n",
        "# unique_recipes = merged_df[\"name\"].unique()\n",
        "\n",
        "\n",
        "#unique_diets = np.unique((list(diets)))\n",
        "\n",
        "\n",
        "# unique_movie_titles = np.unique(np.concatenate(list(movies.batch(1000))))\n",
        "# unique_user_ids = np.unique(np.concatenate(list(ratings.batch(1_000).map(\n",
        "#     lambda x: x[\"user_id\"]))))"
      ]
    },
    {
      "cell_type": "code",
      "source": [
        "# unique_recipe_ids = np.unique(np.concatenate(list(recipe_ids)))\n",
        "# unique_user_ids = np.unique(np.concatenate(list(user_ids)))\n",
        "# unique_recipe_names = np.unique(np.concatenate(list(names)))\n",
        "# unique_diets = np.unique(np.concatenate(list(diets)))"
      ],
      "metadata": {
        "id": "_PLTvxunBI6v"
      },
      "execution_count": 41,
      "outputs": []
    },
    {
      "cell_type": "code",
      "source": [
        "recipe_ids = user_ratings.batch(1_000_000).map(lambda x: x[\"recipe_id\"])\n",
        "user_ids = user_ratings.batch(1_000_000).map(lambda x: x[\"user_id\"])\n",
        "diets = user_ratings.batch(1_000_000).map(lambda x: x[\"diets_combined\"])\n",
        "recipe_names = user_ratings.batch(1_000_000).map(lambda x: x[\"name\"])\n",
        "\n",
        "unique_recipe_ids = np.unique(np.concatenate(list(recipe_ids)))\n",
        "unique_user_ids = np.unique(np.concatenate(list(user_ids)))\n",
        "unique_recipe_names = np.unique(np.concatenate(list(recipe_names)))\n",
        "unique_diets = np.unique(np.concatenate(list(diets)))\n",
        "\n",
        "\n",
        "# Converting pandas dataframe to tensor dataset\n",
        "recipe_ids_tf = tf.data.Dataset.from_tensor_slices(dict(unique_recipe_ids))\n",
        "user_ids_tf = tf.data.Dataset.from_tensor_slices(dict(unique_recipe_ids))\n",
        "names_tf = tf.data.Dataset.from_tensor_slices(dict(unique_recipe_ids))\n",
        "diets_tf = tf.data.Dataset.from_tensor_slices(dict(unique_recipe_ids))"
      ],
      "metadata": {
        "colab": {
          "base_uri": "https://localhost:8080/",
          "height": 286
        },
        "id": "BDZbNS3bHHdm",
        "outputId": "915ac0ce-f3e2-4883-9341-1a531f7e70a8"
      },
      "execution_count": 79,
      "outputs": [
        {
          "output_type": "error",
          "ename": "ValueError",
          "evalue": "dictionary update sequence element #0 has length 3; 2 is required",
          "traceback": [
            "\u001b[0;31m---------------------------------------------------------------------------\u001b[0m",
            "\u001b[0;31mValueError\u001b[0m                                Traceback (most recent call last)",
            "\u001b[0;32m<ipython-input-79-ea6991b7938e>\u001b[0m in \u001b[0;36m<cell line: 13>\u001b[0;34m()\u001b[0m\n\u001b[1;32m     11\u001b[0m \u001b[0;34m\u001b[0m\u001b[0m\n\u001b[1;32m     12\u001b[0m \u001b[0;31m# Converting pandas dataframe to tensor dataset\u001b[0m\u001b[0;34m\u001b[0m\u001b[0;34m\u001b[0m\u001b[0m\n\u001b[0;32m---> 13\u001b[0;31m \u001b[0mrecipe_ids_tf\u001b[0m \u001b[0;34m=\u001b[0m \u001b[0mtf\u001b[0m\u001b[0;34m.\u001b[0m\u001b[0mdata\u001b[0m\u001b[0;34m.\u001b[0m\u001b[0mDataset\u001b[0m\u001b[0;34m.\u001b[0m\u001b[0mfrom_tensor_slices\u001b[0m\u001b[0;34m(\u001b[0m\u001b[0mdict\u001b[0m\u001b[0;34m(\u001b[0m\u001b[0munique_recipe_ids\u001b[0m\u001b[0;34m)\u001b[0m\u001b[0;34m)\u001b[0m\u001b[0;34m\u001b[0m\u001b[0;34m\u001b[0m\u001b[0m\n\u001b[0m\u001b[1;32m     14\u001b[0m \u001b[0muser_ids_tf\u001b[0m \u001b[0;34m=\u001b[0m \u001b[0mtf\u001b[0m\u001b[0;34m.\u001b[0m\u001b[0mdata\u001b[0m\u001b[0;34m.\u001b[0m\u001b[0mDataset\u001b[0m\u001b[0;34m.\u001b[0m\u001b[0mfrom_tensor_slices\u001b[0m\u001b[0;34m(\u001b[0m\u001b[0mdict\u001b[0m\u001b[0;34m(\u001b[0m\u001b[0munique_recipe_ids\u001b[0m\u001b[0;34m)\u001b[0m\u001b[0;34m)\u001b[0m\u001b[0;34m\u001b[0m\u001b[0;34m\u001b[0m\u001b[0m\n\u001b[1;32m     15\u001b[0m \u001b[0mnames_tf\u001b[0m \u001b[0;34m=\u001b[0m \u001b[0mtf\u001b[0m\u001b[0;34m.\u001b[0m\u001b[0mdata\u001b[0m\u001b[0;34m.\u001b[0m\u001b[0mDataset\u001b[0m\u001b[0;34m.\u001b[0m\u001b[0mfrom_tensor_slices\u001b[0m\u001b[0;34m(\u001b[0m\u001b[0mdict\u001b[0m\u001b[0;34m(\u001b[0m\u001b[0munique_recipe_ids\u001b[0m\u001b[0;34m)\u001b[0m\u001b[0;34m)\u001b[0m\u001b[0;34m\u001b[0m\u001b[0;34m\u001b[0m\u001b[0m\n",
            "\u001b[0;31mValueError\u001b[0m: dictionary update sequence element #0 has length 3; 2 is required"
          ]
        }
      ]
    },
    {
      "cell_type": "code",
      "source": [
        "# #method from blog posr: https://blog.searce.com/recommendation-systems-using-tensorflow-recommenders-d7d12167b0b7\n",
        "\n",
        "# # Extracting unique values from movie data\n",
        "# recipe_ids = pd.DataFrame(merged_df[\"recipe_id\"].unique(), columns=[\"recipe_id\"])\n",
        "# user_ids = pd.DataFrame(merged_df[\"user_id\"].unique(), columns=[\"user_id\"])\n",
        "# recipe_names = pd.DataFrame(merged_df[\"name\"].unique(), columns=[\"name\"])\n",
        "# recipe_diets = pd.DataFrame(merged_df[\"diets_combined\"].unique(), columns=[\"diets_combined\"])\n",
        "\n",
        "# # Converting pandas dataframe to tensor dataset\n",
        "# recipe_ids_tf = tf.data.Dataset.from_tensor_slices(dict(recipe_ids))\n",
        "# user_ids_tf = tf.data.Dataset.from_tensor_slices(dict(user_ids))\n",
        "# names_tf = tf.data.Dataset.from_tensor_slices(dict(recipe_names))\n",
        "# diets_tf = tf.data.Dataset.from_tensor_slices(dict(recipe_diets))\n",
        "\n",
        "# # Converting to prefetch dataset\n",
        "# recipe_ids_tf = tf.data.Dataset.prefetch(recipe_ids_tf,   buffer_size=tf.data.AUTOTUNE)\n",
        "# ratings_tf = tf.data.Dataset.prefetch(user_ids_tf,   buffer_size=tf.data.AUTOTUNE)\n",
        "\n",
        "# # Converting ratings dataset to map dataset\n",
        "# ratings_map = ratings.map( lambda x: {\n",
        "# \"user_id\": x[\"user_id\"],\n",
        "# \"movie_title\": x[\"movie_title\"],\n",
        "# \"rating\": x[\"rating\"]})\n",
        "# # Creating a map_dataset of movie data\n",
        "# movie_map = movies.map(lambda x:x[\"movie_title\"])\n",
        "# # Generating unique values:\n",
        "# unique_user_ids = merge_df[\"user_id\"].unique()\n",
        "# unique_movies = merge_df[\"movie_title\"].unique()"
      ],
      "metadata": {
        "id": "z9_2vr5Wb8f4"
      },
      "execution_count": null,
      "outputs": []
    },
    {
      "cell_type": "code",
      "source": [
        "# user_ids_vocab = tf.keras.layers.experimental.preprocessing.StringLookup(mask_token=None)\n",
        "# user_ids_vocab.adapt(user_ratings.map(lambda x: x[\"user_id\"]))\n",
        "\n",
        "# # recipe_ids_vocab = tf.keras.layers.experimental.preprocessing.StringLookup(mask_token=None)\n",
        "# # recipe_ids_vocab.adapt(user_ratings.map(lambda x: x[\"recipe_id\"]))\n",
        "\n",
        "# # diets_vocab = tf.keras.layers.experimental.preprocessing.StringLookup(mask_token=None)\n",
        "# # diets_vocab.adapt(user_ratings.map(lambda x: x[\"diets_combined\"]))\n",
        "\n",
        "# # recipe_names_vocab = tf.keras.layers.experimental.preprocessing.StringLookup(mask_token=None)\n",
        "# # recipe_names_vocab.adapt(user_ratings.map(lambda x: x[\"names\"]))"
      ],
      "metadata": {
        "id": "MFrulbDVBcjq"
      },
      "execution_count": null,
      "outputs": []
    },
    {
      "cell_type": "code",
      "execution_count": 44,
      "metadata": {
        "id": "VFqFoenOpbh5"
      },
      "outputs": [],
      "source": [
        "unique_user_ids = unique_user_ids.astype(str)\n",
        "unique_recipe_ids = unique_recipe_ids.astype(str)\n",
        "unique_recipe_names = unique_recipe_names.astype(str)\n",
        "unique_diets = unique_diets.astype(str)\n",
        "#unique_diets = unique_diets.astype(str)"
      ]
    },
    {
      "cell_type": "code",
      "source": [
        "# # Returns both train and test split separately\n",
        "# # train, test = tfds.load('mnist', split=['train', 'test[:50%]'])\n",
        "\n",
        "# from sklearn.model_selection import train_test_split\n",
        "# train, test = train_test_split(recipes_ds,\n",
        "#                                test_size=0.25,\n",
        "#                                random_state=42)"
      ],
      "metadata": {
        "id": "u4Cgq2q-EUlw"
      },
      "execution_count": 45,
      "outputs": []
    },
    {
      "cell_type": "code",
      "execution_count": 46,
      "metadata": {
        "id": "OIn2_Vzaodz4"
      },
      "outputs": [],
      "source": [
        "## model to compare ranking and retrieval tasks. no extra embeddings.\n",
        "#takes ~1 hr to run each time, so commented out for now\n",
        "\n",
        "# # \"since we have two tasks and two losses - we need to decide on how important each loss is\n",
        "# # We can do this by giving each of the losses a weight, and treating these weights as hyperparameters\"\n",
        "\n",
        "\n",
        "# class UserRecipesModel(tfrs.models.Model):\n",
        "\n",
        "#   def __init__(self, rating_weight: float, retrieval_weight: float) -> None:\n",
        "#     # We take the loss weights in the constructor: this allows us to instantiate\n",
        "#     # several model objects with different loss weights.\n",
        "\n",
        "#     super().__init__()\n",
        "\n",
        "#     embedding_dimension = 32\n",
        "\n",
        "#     # User and recipe models.\n",
        "#     self.recipe_model: tf.keras.layers.Layer = tf.keras.Sequential([\n",
        "#       tf.keras.layers.StringLookup(\n",
        "#         vocabulary=unique_recipe_ids, mask_token=None),\n",
        "#       tf.keras.layers.Embedding(len(unique_recipe_ids) + 1, embedding_dimension)\n",
        "#     ])\n",
        "#     self.user_model: tf.keras.layers.Layer = tf.keras.Sequential([\n",
        "#       tf.keras.layers.StringLookup(\n",
        "#         vocabulary=unique_user_ids, mask_token=None),\n",
        "#       tf.keras.layers.Embedding(len(unique_user_ids) + 1, embedding_dimension)\n",
        "#     ])\n",
        "\n",
        "#     # A small model to take in user and recipe embeddings and predict ratings.\n",
        "#     # We can make this as complicated as we want as long as we output a scalar\n",
        "#     # as our prediction.\n",
        "#     self.rating_model = tf.keras.Sequential([\n",
        "#         tf.keras.layers.Dense(256, activation=\"relu\"),\n",
        "#         tf.keras.layers.Dense(128, activation=\"relu\"),\n",
        "#         tf.keras.layers.Dense(1),\n",
        "#     ])\n",
        "\n",
        "#     # The tasks.\n",
        "#     self.rating_task: tf.keras.layers.Layer = tfrs.tasks.Ranking(\n",
        "#         loss=tf.keras.losses.MeanSquaredError(),\n",
        "#         metrics=[tf.keras.metrics.RootMeanSquaredError()],\n",
        "#     )\n",
        "#     self.retrieval_task: tf.keras.layers.Layer = tfrs.tasks.Retrieval(\n",
        "#         metrics=tfrs.metrics.FactorizedTopK(\n",
        "#             candidates=recipes.batch(128).map(self.recipe_model)\n",
        "#         )\n",
        "#     )\n",
        "\n",
        "#     # The loss weights.\n",
        "#     self.rating_weight = rating_weight\n",
        "#     self.retrieval_weight = retrieval_weight\n",
        "\n",
        "#   def call(self, features: Dict[Text, tf.Tensor]) -> tf.Tensor:\n",
        "#     # We pick out the user features and pass them into the user model.\n",
        "#     user_embeddings = self.user_model(features[\"user_id\"])\n",
        "#     # And pick out the recipe features and pass them into the recipe model.\n",
        "#     recipe_embeddings = self.recipe_model(features[\"recipe_id\"])\n",
        "\n",
        "#     return (\n",
        "#         user_embeddings,\n",
        "#         recipe_embeddings,\n",
        "#         # We apply the multi-layered rating model to a concatentation of\n",
        "#         # user and recipe embeddings.\n",
        "#         self.rating_model(\n",
        "#             tf.concat([user_embeddings, recipe_embeddings], axis=1)\n",
        "#         ),\n",
        "#     )\n",
        "\n",
        "#   def compute_loss(self, features: Dict[Text, tf.Tensor], training=False) -> tf.Tensor:\n",
        "\n",
        "#     ratings = features.pop(\"rating\")\n",
        "\n",
        "#     user_embeddings, recipe_embeddings, rating_predictions = self(features)\n",
        "\n",
        "#     # We compute the loss for each task.\n",
        "#     rating_loss = self.rating_task(\n",
        "#         labels=ratings,\n",
        "#         predictions=rating_predictions,\n",
        "#     )\n",
        "#     retrieval_loss = self.retrieval_task(user_embeddings, recipe_embeddings)\n",
        "\n",
        "#     # And combine them using the loss weights.\n",
        "#     return (self.rating_weight * rating_loss\n",
        "#             + self.retrieval_weight * retrieval_loss)"
      ]
    },
    {
      "cell_type": "code",
      "execution_count": 47,
      "metadata": {
        "id": "Q76vBqufo_Or"
      },
      "outputs": [],
      "source": [
        "# #Ranking specialized model\n",
        "# model = UserRecipesModel(rating_weight=1.0, retrieval_weight=0.0)\n",
        "# model.compile(optimizer=tf.keras.optimizers.Adagrad(0.1))"
      ]
    },
    {
      "cell_type": "code",
      "execution_count": 48,
      "metadata": {
        "id": "v5YKx8TLqQJh"
      },
      "outputs": [],
      "source": [
        "# #Then shuffle, batch, and cache the training and evaluation data:\n",
        "# cached_train = train.shuffle(100_000).batch(8192).cache()\n",
        "# cached_test = test.batch(4096).cache()"
      ]
    },
    {
      "cell_type": "code",
      "execution_count": 49,
      "metadata": {
        "id": "snLuENCOqQLq"
      },
      "outputs": [],
      "source": [
        "# model.fit(cached_train, epochs=3)\n",
        "# metrics = model.evaluate(cached_test, return_dict=True)\n",
        "\n",
        "# print(f\"Retrieval top-100 accuracy: {metrics['factorized_top_k/top_100_categorical_accuracy']:.3f}.\")\n",
        "# print(f\"Ranking RMSE: {metrics['root_mean_squared_error']:.3f}.\")"
      ]
    },
    {
      "cell_type": "markdown",
      "metadata": {
        "id": "mc39otWyOA0L"
      },
      "source": [
        "The RMSE of this Ranking-only model was 1.267.\n",
        "\n",
        "Retrieval top-100 accuracy: 0.001"
      ]
    },
    {
      "cell_type": "code",
      "execution_count": 50,
      "metadata": {
        "id": "5wW2ALito_mS"
      },
      "outputs": [],
      "source": [
        "# #Retrieval specialized model\n",
        "# model = UserRecipesModel(rating_weight=0.0, retrieval_weight=1.0)\n",
        "# model.compile(optimizer=tf.keras.optimizers.Adagrad(0.1))"
      ]
    },
    {
      "cell_type": "code",
      "execution_count": 51,
      "metadata": {
        "id": "toeWVAWXqMoI"
      },
      "outputs": [],
      "source": [
        "# model.fit(cached_train, epochs=3)\n",
        "# metrics = model.evaluate(cached_test, return_dict=True)\n",
        "\n",
        "# print(f\"Retrieval top-100 accuracy: {metrics['factorized_top_k/top_100_categorical_accuracy']:.3f}.\")\n",
        "# print(f\"Ranking RMSE: {metrics['root_mean_squared_error']:.3f}.\")"
      ]
    },
    {
      "cell_type": "markdown",
      "metadata": {
        "id": "n1B23wNFOQcG"
      },
      "source": [
        "The RMSE of this Retrieval-only model was: 4.528\n",
        "\n",
        "Retrieval top-100 accuracy: 0.036"
      ]
    },
    {
      "cell_type": "code",
      "execution_count": 52,
      "metadata": {
        "id": "U6B7tFDCqMs9"
      },
      "outputs": [],
      "source": [
        "# #joint model\n",
        "# model = UserRecipesModel(rating_weight=1.0, retrieval_weight=1.0)\n",
        "# model.compile(optimizer=tf.keras.optimizers.Adagrad(0.1))"
      ]
    },
    {
      "cell_type": "code",
      "execution_count": 53,
      "metadata": {
        "id": "UFAfTT57vF4g"
      },
      "outputs": [],
      "source": [
        "# model.fit(cached_train, epochs=3)\n",
        "# metrics = model.evaluate(cached_test, return_dict=True)\n",
        "\n",
        "# print(f\"Retrieval top-100 accuracy: {metrics['factorized_top_k/top_100_categorical_accuracy']:.3f}.\")\n",
        "# print(f\"Ranking RMSE: {metrics['root_mean_squared_error']:.3f}.\")"
      ]
    },
    {
      "cell_type": "markdown",
      "metadata": {
        "id": "ynLObjxZOZps"
      },
      "source": [
        "The RMSE of this combined (ranking and retrieval) model was: 1.342\n",
        "\n",
        "Retrieval top-100 accuracy: 0.037"
      ]
    },
    {
      "cell_type": "code",
      "execution_count": 54,
      "metadata": {
        "id": "wo3ZuCx-vF7K"
      },
      "outputs": [],
      "source": [
        "# #make predictions\n",
        "# trained_recipe_embeddings, trained_user_embeddings, predicted_rating = model({\n",
        "#       #insert specific user and item IDs here:\n",
        "#       \"user_id\": np.array([\" \"]),\n",
        "#       \"recipe_id\": np.array([\" \"])\n",
        "#   })\n",
        "# print(\"Predicted rating:\")\n",
        "# print(predicted_rating)"
      ]
    },
    {
      "cell_type": "code",
      "execution_count": 55,
      "metadata": {
        "id": "K4uRDX6BvF9R"
      },
      "outputs": [],
      "source": [
        "#recipe_ds_plus = tf.data.Dataset.from_tensor_slices(dict(recipe_data_cleaned))"
      ]
    },
    {
      "cell_type": "markdown",
      "source": [
        "____"
      ],
      "metadata": {
        "id": "HilMqRBtNaJo"
      }
    },
    {
      "cell_type": "markdown",
      "source": [
        "#### Model with extra embeddings:"
      ],
      "metadata": {
        "id": "OdRI2LUWhHhs"
      }
    },
    {
      "cell_type": "code",
      "source": [
        "# #user model/query model, extra embeddings\n",
        "\n",
        "# class UserModel(tf.keras.Model):\n",
        "#   def __init__(self):\n",
        "#     super().__init__()\n",
        "\n",
        "#     self.user_embedding = tf.keras.Sequential([\n",
        "#         tf.keras.layers.StringLookup(\n",
        "#             vocabulary=unique_user_ids, mask_token=None),\n",
        "#         tf.keras.layers.Embedding(len(unique_user_ids)+1, 32)\n",
        "#     ])\n",
        "\n",
        "#   def call(self):\n",
        "#     # We pick out the user features and pass them into the user model.\n",
        "#     self.user_embedding(user_id)\n"
      ],
      "metadata": {
        "id": "InUstigZECTC"
      },
      "execution_count": 56,
      "outputs": []
    },
    {
      "cell_type": "code",
      "source": [
        "# recipe_id_strings = tf.strings.as_string(recipes.batch(128).map(self.recipe_embedding))\n",
        "# diets_combined_strings = tf.strings.as_string(recipes.batch(128).map(self.diets_combined))\n",
        "# description_strings = tf.strings.as_string(recipes.batch(128).map(self.description))\n"
      ],
      "metadata": {
        "id": "_H7M_MPCUjTw"
      },
      "execution_count": 57,
      "outputs": []
    },
    {
      "cell_type": "code",
      "source": [
        "# unique_recipe_ids = unique_recipe_ids.astype(str)"
      ],
      "metadata": {
        "id": "eUeIbewrVHni"
      },
      "execution_count": 58,
      "outputs": []
    },
    {
      "cell_type": "code",
      "source": [
        "# #recipe model/candidate model, extra embeddings\n",
        "\n",
        "# class RecipeModel(tf.keras.Model):\n",
        "#   def __init__(self, use_embeds):\n",
        "#     super().__init__()\n",
        "\n",
        "\n",
        "\n",
        "#     self._use_embeds = use_embeds\n",
        "\n",
        "#     self.recipe_embedding = tf.keras.Sequential([\n",
        "#         tf.keras.layers.StringLookup(\n",
        "#             vocabulary=unique_recipe_ids, mask_token=None),\n",
        "#         tf.keras.layers.Embedding(len(unique_recipe_ids)+1, 32)\n",
        "#     ])\n",
        "\n",
        "#     max_tokens = 10_000\n",
        "#     if use_embeds:\n",
        "#       self.diet_embedding = tf.keras.Sequential([\n",
        "#           tf.keras.layers.TextVectorization(max_tokens=max_tokens),\n",
        "#           tf.keras.layers.Embedding(len(unique_diets)+1, 32)\n",
        "#           ])\n",
        "#       # self.descr_vectorizer = tf.keras.layers.TextVectorization(\n",
        "#       #     max_tokens=max_tokens\n",
        "#       # )\n",
        "#       self.descr_embedding = tf.keras.Sequential([\n",
        "#       tf.keras.layers.TextVectorization(max_tokens=max_tokens),\n",
        "#       tf.keras.layers.Embedding(max_tokens, 32, mask_zero=True),\n",
        "#       # We average the embedding of individual words to get one embedding vector\n",
        "#       # per title.\n",
        "#       tf.keras.layers.GlobalAveragePooling1D(),\n",
        "#       # self.descr_vectorizer,\n",
        "#       # tf.keras.layers.Embedding(max_tokens, 32, mask_zero=True),\n",
        "#       # tf.keras.layers.GlobalAveragePooling1D(),\n",
        "#     ])\n",
        "#   def call(self, recipes):\n",
        "#     return tf.concat([\n",
        "#     self.recipe_embedding(recipes[\"recipe_id\"]),\n",
        "#     tf.reshape(self.diet_embedding(recipes[\"diets_combined\"]), (-1, 1)),\n",
        "#     #self.descr_embedding(recipes[\"description\"])\n",
        "#     ], axis=1)\n",
        ""
      ],
      "metadata": {
        "id": "f6umtCnrEzSH"
      },
      "execution_count": 59,
      "outputs": []
    },
    {
      "cell_type": "code",
      "source": [
        "#preprocessing to get vocabs:\n",
        "# user_ids_vocab = tf.keras.layers.StringLookup(mask_token=None)\n",
        "# # user_ids_vocab = user_ids_vocab.astype(str)\n",
        "# # unique_user_ids = np.unique(np.concatenate(list(user_ids_vocab)))\n",
        "# unique_user_ids = unique_user_ids.astype(str)\n",
        "# unique_user_ids.adapt(user_ratings.map(lambda x: x[\"user_id\"]))\n",
        "\n",
        "# # recipe_ids_vocab = tf.keras.layers.StringLookup(mask_token=None)\n",
        "# # unique_recipe_ids = np.unique(np.concatenate(list(recipe_ids_vocab)))\n",
        "# unique_recipe_ids = unique_recipe_ids.astype(str)\n",
        "# # recipe_ids_vocab = recipe_ids_vocab.astype(str)\n",
        "# unique_recipe_ids.adapt(recipes.map(lambda x: x[\"recipe_id\"]))\n",
        "\n",
        "\n",
        "# self.recipe_model: tf.keras.layers.Layer = tf.keras.Sequential([\n",
        "#       tf.keras.layers.StringLookup(\n",
        "#         vocabulary=unique_recipe_ids, mask_token=None),\n",
        "#       tf.keras.layers.Embedding(len(unique_recipe_ids) + 1, embedding_dimension)\n",
        "#     ])"
      ],
      "metadata": {
        "id": "xOkCtkuXjYPe"
      },
      "execution_count": 60,
      "outputs": []
    },
    {
      "cell_type": "code",
      "source": [
        "# #youtube version\n",
        "# class JointModel(tfrs.Model):\n",
        "#       def __init__(\n",
        "#           self,\n",
        "#           user_model: tf.keras.Model,\n",
        "#           recipe_model: tf.keras.Model,\n",
        "#           task: tfrs.tasks.Retrieval):\n",
        "#         super().__init__()\n",
        "\n",
        "#         self.user_model = UserModel\n",
        "#         self.recipe_model = RecipeModel\n",
        "\n",
        "#         self.task = task\n",
        "\n",
        "#         def compute_loss(self, features: Dict[Text, tf.Tensor], training=False) -> tf.Tensor:\n",
        "#           user_embeddings = self.user_model(features[\"user_id\"])\n",
        "#           recipe_embeddings = self.recipe_model(features[\"recipe_id\"])\n",
        "\n",
        "#           return self.task(user_embeddings, recipe_embeddings)"
      ],
      "metadata": {
        "id": "RQFNrgPmc2Kl"
      },
      "execution_count": 61,
      "outputs": []
    },
    {
      "cell_type": "code",
      "source": [
        "# #define the models:\n",
        "# user_model = tf.keras.Sequential([\n",
        "#     tf.keras.layers.StringLookup(\n",
        "#             vocabulary=unique_user_ids, mask_token=None),\n",
        "#     tf.keras.layers.Embedding(len(unique_user_ids)+1, 32)\n",
        "\n",
        "# ])\n",
        "\n",
        "#     # self.user_embedding = tf.keras.Sequential([\n",
        "#     #     tf.keras.layers.StringLookup(\n",
        "#     #         vocabulary=unique_user_ids, mask_token=None),\n",
        "#     #     tf.keras.layers.Embedding(len(unique_user_ids)+1, 32)\n",
        "#     # ])\n",
        "# # recipe_model = tf.keras.Sequential([\n",
        "# #     unique_recipe_ids,\n",
        "# #     tf.keras.layers.Embedding(unique_recipe_ids.vocab_size(), 64)\n",
        "# # ])\n",
        "\n"
      ],
      "metadata": {
        "id": "bTxMOoTMhl2f"
      },
      "execution_count": 62,
      "outputs": []
    },
    {
      "cell_type": "code",
      "source": [
        "class UserModel(tf.keras.Model):\n",
        "    def __init__(self):\n",
        "        super().__init__()\n",
        "        self.user_embeddings = tf.keras.Sequential(\n",
        "[tf.keras.layers.StringLookup(vocabulary=unique_user_ids,    mask_token=None),tf.keras.layers.Embedding(len(unique_user_ids)+1, 32)])\n",
        "    def call(self, inputs):\n",
        "          return self.user_embeddings(inputs[\"user_id\"])"
      ],
      "metadata": {
        "id": "zt4ggU-lCcLl"
      },
      "execution_count": 73,
      "outputs": []
    },
    {
      "cell_type": "code",
      "source": [
        "class RecipeModel(tf.keras.Model):\n",
        "\n",
        "  def __init__(self):\n",
        "    super().__init__()\n",
        "\n",
        "    max_tokens = 10_000\n",
        "\n",
        "    self.recipe_embedding = tf.keras.Sequential([\n",
        "      tf.keras.Sequential(\n",
        "          [tf.keras.layers.StringLookup(vocabulary=unique_recipe_ids, mask_token=None),\n",
        "           tf.keras.layers.Embedding(len(unique_recipe_ids)+1, 32)\n",
        "           ])\n",
        "      ])\n",
        "\n",
        "    self.name_text_embedding = tf.keras.Sequential([\n",
        "        tf.keras.layers.StringLookup(vocabulary=unique_recipe_names, mask_token=None),\n",
        "        tf.keras.layers.Embedding(len(unique_recipe_names)+1, 32)])\n",
        "\n",
        "    self.diet_embedding = tf.keras.Sequential([\n",
        "        tf.keras.layers.StringLookup(vocabulary=unique_diets, mask_token=None),\n",
        "        tf.keras.layers.Embedding(len(unique_diets)+1, 32)])\n",
        "\n",
        "    self.text_vectorizer =  tf.keras.layers.TextVectorization(max_tokens=max_tokens)\n",
        "\n",
        "    self.name_text_embedding = tf.keras.Sequential([\n",
        "        self.text_vectorizer,\n",
        "        tf.keras.layers.Embedding(max_tokens, 32, mask_zero=True),\n",
        "        tf.keras.layers.GlobalAveragePooling1D()])\n",
        "\n",
        "    self.text_vectorizer.adapt(names)\n",
        "    self.text_vectorizer.adapt(diets)\n",
        "\n",
        "  def call(self, inputs):\n",
        "    return tf.concat( [self.recipe_embedding(inputs),  self.name_text_embedding(inputs), self.diet_embedding(inputs)],axis=1)\n",
        ""
      ],
      "metadata": {
        "id": "jBsAqr3m5XKt"
      },
      "execution_count": 74,
      "outputs": []
    },
    {
      "cell_type": "code",
      "source": [
        "#combined model\n",
        "#https://blog.searce.com/recommendation-systems-using-tensorflow-recommenders-d7d12167b0b7\n",
        "class RecipeRecommendModel(tfrs.models.Model):\n",
        "    def __init__(self, rating_weight, retrieval_weight):\n",
        "        super().__init__()\n",
        "        embedding_dimension = 32\n",
        "        self.query_model = tf.keras.Sequential([UserModel(), tf.keras.layers.Dense(embedding_dimension)])\n",
        "        self.candidate_model = tf.keras.Sequential([RecipeModel(), tf.keras.layers.Dense(embedding_dimension)])\n",
        "        self.rating_model = tf.keras.Sequential([tf.keras.layers.Dense(256, activation=\"relu\"), tf.keras.layers.Dense(128, activation=\"relu\"), tf.keras.layers.Dense(1)])\n",
        "        self.retrieval_task = tfrs.tasks.Retrieval(metrics=tfrs.metrics.FactorizedTopK(candidates=recipe_map.batch(128).map(self.candidate_model)))\n",
        "        self.rating_task = tfrs.tasks.Ranking(loss=tf.keras.losses.MeanSquaredError(), metrics=[tf.keras.metrics.RootMeanSquaredError()])\n",
        "       # The loss weights.\n",
        "        self.rating_weight = rating_weight\n",
        "        self.retrieval_weight = retrieval_weight\n",
        "\n",
        "    def call(self, features: Dict[Text, tf.Tensor]) -> tf.Tensor:\n",
        "        user_embeddings = self.query_model({\"user_id\": features[\"user_id\"]})\n",
        "        recipe_embeddings = self.candidate_model({\"recipe_id\":features[\"recipe_id\"]})\n",
        "        return (user_embeddings, recipe_embeddings, self.rating_model(tf.concat([user_embeddings, recipe_embeddings],axis=1)))\n",
        "\n",
        "    def compute_loss(self, features: Dict[Text, tf.Tensor], training=False) -> tf.Tensor:\n",
        "\n",
        "        ratings = features.pop(\"rating\")\n",
        "        user_embeddings, recipe_embeddings, rating_predictions = self(features)\n",
        "        # We compute the loss for each task.\n",
        "        rating_loss = self.rating_task(labels=ratings, predictions=rating_predictions)\n",
        "        retrieval_loss = self.retrieval_task(user_embeddings, recipe_embeddings)\n",
        "        # And combine them using the loss weights.\n",
        "        return (self.rating_weight * rating_loss + self.retrieval_weight * retrieval_loss)"
      ],
      "metadata": {
        "id": "81lRD5s6BKg2"
      },
      "execution_count": 76,
      "outputs": []
    },
    {
      "cell_type": "code",
      "source": [
        "model_2 = RecipeRecommendModel(1, 1)\n",
        "model_2.compile(optimizer=tf.keras.optimizers.Adagrad(learning_rate=0.5))\n"
      ],
      "metadata": {
        "colab": {
          "base_uri": "https://localhost:8080/",
          "height": 399
        },
        "id": "rdEr_QSjBySI",
        "outputId": "7b49104b-3fe3-4761-8e22-7b424f5a15c3"
      },
      "execution_count": 80,
      "outputs": [
        {
          "output_type": "error",
          "ename": "KeyboardInterrupt",
          "evalue": "",
          "traceback": [
            "\u001b[0;31m---------------------------------------------------------------------------\u001b[0m",
            "\u001b[0;31mKeyboardInterrupt\u001b[0m                         Traceback (most recent call last)",
            "\u001b[0;32m<ipython-input-80-04e3d89e6d58>\u001b[0m in \u001b[0;36m<cell line: 1>\u001b[0;34m()\u001b[0m\n\u001b[0;32m----> 1\u001b[0;31m \u001b[0mmodel\u001b[0m \u001b[0;34m=\u001b[0m \u001b[0mRecipeRecommendModel\u001b[0m\u001b[0;34m(\u001b[0m\u001b[0;36m1\u001b[0m\u001b[0;34m,\u001b[0m \u001b[0;36m1\u001b[0m\u001b[0;34m)\u001b[0m\u001b[0;34m\u001b[0m\u001b[0;34m\u001b[0m\u001b[0m\n\u001b[0m\u001b[1;32m      2\u001b[0m \u001b[0mmodel\u001b[0m\u001b[0;34m.\u001b[0m\u001b[0mcompile\u001b[0m\u001b[0;34m(\u001b[0m\u001b[0moptimizer\u001b[0m\u001b[0;34m=\u001b[0m\u001b[0mtf\u001b[0m\u001b[0;34m.\u001b[0m\u001b[0mkeras\u001b[0m\u001b[0;34m.\u001b[0m\u001b[0moptimizers\u001b[0m\u001b[0;34m.\u001b[0m\u001b[0mAdagrad\u001b[0m\u001b[0;34m(\u001b[0m\u001b[0mlearning_rate\u001b[0m\u001b[0;34m=\u001b[0m\u001b[0;36m0.5\u001b[0m\u001b[0;34m)\u001b[0m\u001b[0;34m)\u001b[0m\u001b[0;34m\u001b[0m\u001b[0;34m\u001b[0m\u001b[0m\n",
            "\u001b[0;32m<ipython-input-76-440b66e26815>\u001b[0m in \u001b[0;36m__init__\u001b[0;34m(self, rating_weight, retrieval_weight)\u001b[0m\n\u001b[1;32m      6\u001b[0m         \u001b[0membedding_dimension\u001b[0m \u001b[0;34m=\u001b[0m \u001b[0;36m32\u001b[0m\u001b[0;34m\u001b[0m\u001b[0;34m\u001b[0m\u001b[0m\n\u001b[1;32m      7\u001b[0m         \u001b[0mself\u001b[0m\u001b[0;34m.\u001b[0m\u001b[0mquery_model\u001b[0m \u001b[0;34m=\u001b[0m \u001b[0mtf\u001b[0m\u001b[0;34m.\u001b[0m\u001b[0mkeras\u001b[0m\u001b[0;34m.\u001b[0m\u001b[0mSequential\u001b[0m\u001b[0;34m(\u001b[0m\u001b[0;34m[\u001b[0m\u001b[0mUserModel\u001b[0m\u001b[0;34m(\u001b[0m\u001b[0;34m)\u001b[0m\u001b[0;34m,\u001b[0m \u001b[0mtf\u001b[0m\u001b[0;34m.\u001b[0m\u001b[0mkeras\u001b[0m\u001b[0;34m.\u001b[0m\u001b[0mlayers\u001b[0m\u001b[0;34m.\u001b[0m\u001b[0mDense\u001b[0m\u001b[0;34m(\u001b[0m\u001b[0membedding_dimension\u001b[0m\u001b[0;34m)\u001b[0m\u001b[0;34m]\u001b[0m\u001b[0;34m)\u001b[0m\u001b[0;34m\u001b[0m\u001b[0;34m\u001b[0m\u001b[0m\n\u001b[0;32m----> 8\u001b[0;31m         \u001b[0mself\u001b[0m\u001b[0;34m.\u001b[0m\u001b[0mcandidate_model\u001b[0m \u001b[0;34m=\u001b[0m \u001b[0mtf\u001b[0m\u001b[0;34m.\u001b[0m\u001b[0mkeras\u001b[0m\u001b[0;34m.\u001b[0m\u001b[0mSequential\u001b[0m\u001b[0;34m(\u001b[0m\u001b[0;34m[\u001b[0m\u001b[0mRecipeModel\u001b[0m\u001b[0;34m(\u001b[0m\u001b[0;34m)\u001b[0m\u001b[0;34m,\u001b[0m \u001b[0mtf\u001b[0m\u001b[0;34m.\u001b[0m\u001b[0mkeras\u001b[0m\u001b[0;34m.\u001b[0m\u001b[0mlayers\u001b[0m\u001b[0;34m.\u001b[0m\u001b[0mDense\u001b[0m\u001b[0;34m(\u001b[0m\u001b[0membedding_dimension\u001b[0m\u001b[0;34m)\u001b[0m\u001b[0;34m]\u001b[0m\u001b[0;34m)\u001b[0m\u001b[0;34m\u001b[0m\u001b[0;34m\u001b[0m\u001b[0m\n\u001b[0m\u001b[1;32m      9\u001b[0m         \u001b[0mself\u001b[0m\u001b[0;34m.\u001b[0m\u001b[0mrating_model\u001b[0m \u001b[0;34m=\u001b[0m \u001b[0mtf\u001b[0m\u001b[0;34m.\u001b[0m\u001b[0mkeras\u001b[0m\u001b[0;34m.\u001b[0m\u001b[0mSequential\u001b[0m\u001b[0;34m(\u001b[0m\u001b[0;34m[\u001b[0m\u001b[0mtf\u001b[0m\u001b[0;34m.\u001b[0m\u001b[0mkeras\u001b[0m\u001b[0;34m.\u001b[0m\u001b[0mlayers\u001b[0m\u001b[0;34m.\u001b[0m\u001b[0mDense\u001b[0m\u001b[0;34m(\u001b[0m\u001b[0;36m256\u001b[0m\u001b[0;34m,\u001b[0m \u001b[0mactivation\u001b[0m\u001b[0;34m=\u001b[0m\u001b[0;34m\"relu\"\u001b[0m\u001b[0;34m)\u001b[0m\u001b[0;34m,\u001b[0m \u001b[0mtf\u001b[0m\u001b[0;34m.\u001b[0m\u001b[0mkeras\u001b[0m\u001b[0;34m.\u001b[0m\u001b[0mlayers\u001b[0m\u001b[0;34m.\u001b[0m\u001b[0mDense\u001b[0m\u001b[0;34m(\u001b[0m\u001b[0;36m128\u001b[0m\u001b[0;34m,\u001b[0m \u001b[0mactivation\u001b[0m\u001b[0;34m=\u001b[0m\u001b[0;34m\"relu\"\u001b[0m\u001b[0;34m)\u001b[0m\u001b[0;34m,\u001b[0m \u001b[0mtf\u001b[0m\u001b[0;34m.\u001b[0m\u001b[0mkeras\u001b[0m\u001b[0;34m.\u001b[0m\u001b[0mlayers\u001b[0m\u001b[0;34m.\u001b[0m\u001b[0mDense\u001b[0m\u001b[0;34m(\u001b[0m\u001b[0;36m1\u001b[0m\u001b[0;34m)\u001b[0m\u001b[0;34m]\u001b[0m\u001b[0;34m)\u001b[0m\u001b[0;34m\u001b[0m\u001b[0;34m\u001b[0m\u001b[0m\n\u001b[1;32m     10\u001b[0m         \u001b[0mself\u001b[0m\u001b[0;34m.\u001b[0m\u001b[0mretrieval_task\u001b[0m \u001b[0;34m=\u001b[0m \u001b[0mtfrs\u001b[0m\u001b[0;34m.\u001b[0m\u001b[0mtasks\u001b[0m\u001b[0;34m.\u001b[0m\u001b[0mRetrieval\u001b[0m\u001b[0;34m(\u001b[0m\u001b[0mmetrics\u001b[0m\u001b[0;34m=\u001b[0m\u001b[0mtfrs\u001b[0m\u001b[0;34m.\u001b[0m\u001b[0mmetrics\u001b[0m\u001b[0;34m.\u001b[0m\u001b[0mFactorizedTopK\u001b[0m\u001b[0;34m(\u001b[0m\u001b[0mcandidates\u001b[0m\u001b[0;34m=\u001b[0m\u001b[0mrecipe_map\u001b[0m\u001b[0;34m.\u001b[0m\u001b[0mbatch\u001b[0m\u001b[0;34m(\u001b[0m\u001b[0;36m128\u001b[0m\u001b[0;34m)\u001b[0m\u001b[0;34m.\u001b[0m\u001b[0mmap\u001b[0m\u001b[0;34m(\u001b[0m\u001b[0mself\u001b[0m\u001b[0;34m.\u001b[0m\u001b[0mcandidate_model\u001b[0m\u001b[0;34m)\u001b[0m\u001b[0;34m)\u001b[0m\u001b[0;34m)\u001b[0m\u001b[0;34m\u001b[0m\u001b[0;34m\u001b[0m\u001b[0m\n",
            "\u001b[0;32m<ipython-input-74-9de67a54b94e>\u001b[0m in \u001b[0;36m__init__\u001b[0;34m(self)\u001b[0m\n\u001b[1;32m     34\u001b[0m         tf.keras.layers.GlobalAveragePooling1D()])\n\u001b[1;32m     35\u001b[0m \u001b[0;34m\u001b[0m\u001b[0m\n\u001b[0;32m---> 36\u001b[0;31m     \u001b[0mself\u001b[0m\u001b[0;34m.\u001b[0m\u001b[0mtext_vectorizer\u001b[0m\u001b[0;34m.\u001b[0m\u001b[0madapt\u001b[0m\u001b[0;34m(\u001b[0m\u001b[0mnames\u001b[0m\u001b[0;34m)\u001b[0m\u001b[0;34m\u001b[0m\u001b[0;34m\u001b[0m\u001b[0m\n\u001b[0m\u001b[1;32m     37\u001b[0m     \u001b[0mself\u001b[0m\u001b[0;34m.\u001b[0m\u001b[0mtext_vectorizer\u001b[0m\u001b[0;34m.\u001b[0m\u001b[0madapt\u001b[0m\u001b[0;34m(\u001b[0m\u001b[0mdiets\u001b[0m\u001b[0;34m)\u001b[0m\u001b[0;34m\u001b[0m\u001b[0;34m\u001b[0m\u001b[0m\n\u001b[1;32m     38\u001b[0m     \u001b[0;31m# self.text_vectorizer =  tf.keras.layers.TextVectorization(max_tokens=max_tokens)\u001b[0m\u001b[0;34m\u001b[0m\u001b[0;34m\u001b[0m\u001b[0m\n",
            "\u001b[0;32m/usr/local/lib/python3.10/dist-packages/keras/src/layers/preprocessing/text_vectorization.py\u001b[0m in \u001b[0;36madapt\u001b[0;34m(self, data, batch_size, steps)\u001b[0m\n\u001b[1;32m    471\u001b[0m               \u001b[0margument\u001b[0m \u001b[0;32mis\u001b[0m \u001b[0;32mnot\u001b[0m \u001b[0msupported\u001b[0m \u001b[0;32mwith\u001b[0m \u001b[0marray\u001b[0m \u001b[0minputs\u001b[0m\u001b[0;34m.\u001b[0m\u001b[0;34m\u001b[0m\u001b[0;34m\u001b[0m\u001b[0m\n\u001b[1;32m    472\u001b[0m         \"\"\"\n\u001b[0;32m--> 473\u001b[0;31m         \u001b[0msuper\u001b[0m\u001b[0;34m(\u001b[0m\u001b[0;34m)\u001b[0m\u001b[0;34m.\u001b[0m\u001b[0madapt\u001b[0m\u001b[0;34m(\u001b[0m\u001b[0mdata\u001b[0m\u001b[0;34m,\u001b[0m \u001b[0mbatch_size\u001b[0m\u001b[0;34m=\u001b[0m\u001b[0mbatch_size\u001b[0m\u001b[0;34m,\u001b[0m \u001b[0msteps\u001b[0m\u001b[0;34m=\u001b[0m\u001b[0msteps\u001b[0m\u001b[0;34m)\u001b[0m\u001b[0;34m\u001b[0m\u001b[0;34m\u001b[0m\u001b[0m\n\u001b[0m\u001b[1;32m    474\u001b[0m \u001b[0;34m\u001b[0m\u001b[0m\n\u001b[1;32m    475\u001b[0m     \u001b[0;32mdef\u001b[0m \u001b[0mupdate_state\u001b[0m\u001b[0;34m(\u001b[0m\u001b[0mself\u001b[0m\u001b[0;34m,\u001b[0m \u001b[0mdata\u001b[0m\u001b[0;34m)\u001b[0m\u001b[0;34m:\u001b[0m\u001b[0;34m\u001b[0m\u001b[0;34m\u001b[0m\u001b[0m\n",
            "\u001b[0;32m/usr/local/lib/python3.10/dist-packages/keras/src/engine/base_preprocessing_layer.py\u001b[0m in \u001b[0;36madapt\u001b[0;34m(self, data, batch_size, steps)\u001b[0m\n\u001b[1;32m    256\u001b[0m             \u001b[0;32mwith\u001b[0m \u001b[0mdata_handler\u001b[0m\u001b[0;34m.\u001b[0m\u001b[0mcatch_stop_iteration\u001b[0m\u001b[0;34m(\u001b[0m\u001b[0;34m)\u001b[0m\u001b[0;34m:\u001b[0m\u001b[0;34m\u001b[0m\u001b[0;34m\u001b[0m\u001b[0m\n\u001b[1;32m    257\u001b[0m                 \u001b[0;32mfor\u001b[0m \u001b[0m_\u001b[0m \u001b[0;32min\u001b[0m \u001b[0mdata_handler\u001b[0m\u001b[0;34m.\u001b[0m\u001b[0msteps\u001b[0m\u001b[0;34m(\u001b[0m\u001b[0;34m)\u001b[0m\u001b[0;34m:\u001b[0m\u001b[0;34m\u001b[0m\u001b[0;34m\u001b[0m\u001b[0m\n\u001b[0;32m--> 258\u001b[0;31m                     \u001b[0mself\u001b[0m\u001b[0;34m.\u001b[0m\u001b[0m_adapt_function\u001b[0m\u001b[0;34m(\u001b[0m\u001b[0miterator\u001b[0m\u001b[0;34m)\u001b[0m\u001b[0;34m\u001b[0m\u001b[0;34m\u001b[0m\u001b[0m\n\u001b[0m\u001b[1;32m    259\u001b[0m                     \u001b[0;32mif\u001b[0m \u001b[0mdata_handler\u001b[0m\u001b[0;34m.\u001b[0m\u001b[0mshould_sync\u001b[0m\u001b[0;34m:\u001b[0m\u001b[0;34m\u001b[0m\u001b[0;34m\u001b[0m\u001b[0m\n\u001b[1;32m    260\u001b[0m                         \u001b[0mcontext\u001b[0m\u001b[0;34m.\u001b[0m\u001b[0masync_wait\u001b[0m\u001b[0;34m(\u001b[0m\u001b[0;34m)\u001b[0m\u001b[0;34m\u001b[0m\u001b[0;34m\u001b[0m\u001b[0m\n",
            "\u001b[0;32m/usr/local/lib/python3.10/dist-packages/tensorflow/python/util/traceback_utils.py\u001b[0m in \u001b[0;36merror_handler\u001b[0;34m(*args, **kwargs)\u001b[0m\n\u001b[1;32m    148\u001b[0m     \u001b[0mfiltered_tb\u001b[0m \u001b[0;34m=\u001b[0m \u001b[0;32mNone\u001b[0m\u001b[0;34m\u001b[0m\u001b[0;34m\u001b[0m\u001b[0m\n\u001b[1;32m    149\u001b[0m     \u001b[0;32mtry\u001b[0m\u001b[0;34m:\u001b[0m\u001b[0;34m\u001b[0m\u001b[0;34m\u001b[0m\u001b[0m\n\u001b[0;32m--> 150\u001b[0;31m       \u001b[0;32mreturn\u001b[0m \u001b[0mfn\u001b[0m\u001b[0;34m(\u001b[0m\u001b[0;34m*\u001b[0m\u001b[0margs\u001b[0m\u001b[0;34m,\u001b[0m \u001b[0;34m**\u001b[0m\u001b[0mkwargs\u001b[0m\u001b[0;34m)\u001b[0m\u001b[0;34m\u001b[0m\u001b[0;34m\u001b[0m\u001b[0m\n\u001b[0m\u001b[1;32m    151\u001b[0m     \u001b[0;32mexcept\u001b[0m \u001b[0mException\u001b[0m \u001b[0;32mas\u001b[0m \u001b[0me\u001b[0m\u001b[0;34m:\u001b[0m\u001b[0;34m\u001b[0m\u001b[0;34m\u001b[0m\u001b[0m\n\u001b[1;32m    152\u001b[0m       \u001b[0mfiltered_tb\u001b[0m \u001b[0;34m=\u001b[0m \u001b[0m_process_traceback_frames\u001b[0m\u001b[0;34m(\u001b[0m\u001b[0me\u001b[0m\u001b[0;34m.\u001b[0m\u001b[0m__traceback__\u001b[0m\u001b[0;34m)\u001b[0m\u001b[0;34m\u001b[0m\u001b[0;34m\u001b[0m\u001b[0m\n",
            "\u001b[0;32m/usr/local/lib/python3.10/dist-packages/tensorflow/python/eager/polymorphic_function/polymorphic_function.py\u001b[0m in \u001b[0;36m__call__\u001b[0;34m(self, *args, **kwds)\u001b[0m\n\u001b[1;32m    823\u001b[0m \u001b[0;34m\u001b[0m\u001b[0m\n\u001b[1;32m    824\u001b[0m       \u001b[0;32mwith\u001b[0m \u001b[0mOptionalXlaContext\u001b[0m\u001b[0;34m(\u001b[0m\u001b[0mself\u001b[0m\u001b[0;34m.\u001b[0m\u001b[0m_jit_compile\u001b[0m\u001b[0;34m)\u001b[0m\u001b[0;34m:\u001b[0m\u001b[0;34m\u001b[0m\u001b[0;34m\u001b[0m\u001b[0m\n\u001b[0;32m--> 825\u001b[0;31m         \u001b[0mresult\u001b[0m \u001b[0;34m=\u001b[0m \u001b[0mself\u001b[0m\u001b[0;34m.\u001b[0m\u001b[0m_call\u001b[0m\u001b[0;34m(\u001b[0m\u001b[0;34m*\u001b[0m\u001b[0margs\u001b[0m\u001b[0;34m,\u001b[0m \u001b[0;34m**\u001b[0m\u001b[0mkwds\u001b[0m\u001b[0;34m)\u001b[0m\u001b[0;34m\u001b[0m\u001b[0;34m\u001b[0m\u001b[0m\n\u001b[0m\u001b[1;32m    826\u001b[0m \u001b[0;34m\u001b[0m\u001b[0m\n\u001b[1;32m    827\u001b[0m       \u001b[0mnew_tracing_count\u001b[0m \u001b[0;34m=\u001b[0m \u001b[0mself\u001b[0m\u001b[0;34m.\u001b[0m\u001b[0mexperimental_get_tracing_count\u001b[0m\u001b[0;34m(\u001b[0m\u001b[0;34m)\u001b[0m\u001b[0;34m\u001b[0m\u001b[0;34m\u001b[0m\u001b[0m\n",
            "\u001b[0;32m/usr/local/lib/python3.10/dist-packages/tensorflow/python/eager/polymorphic_function/polymorphic_function.py\u001b[0m in \u001b[0;36m_call\u001b[0;34m(self, *args, **kwds)\u001b[0m\n\u001b[1;32m    862\u001b[0m       \u001b[0;31m# In this case we have not created variables on the first call. So we can\u001b[0m\u001b[0;34m\u001b[0m\u001b[0;34m\u001b[0m\u001b[0m\n\u001b[1;32m    863\u001b[0m       \u001b[0;31m# run the first trace but we should fail if variables are created.\u001b[0m\u001b[0;34m\u001b[0m\u001b[0;34m\u001b[0m\u001b[0m\n\u001b[0;32m--> 864\u001b[0;31m       \u001b[0mresults\u001b[0m \u001b[0;34m=\u001b[0m \u001b[0mself\u001b[0m\u001b[0;34m.\u001b[0m\u001b[0m_variable_creation_fn\u001b[0m\u001b[0;34m(\u001b[0m\u001b[0;34m*\u001b[0m\u001b[0margs\u001b[0m\u001b[0;34m,\u001b[0m \u001b[0;34m**\u001b[0m\u001b[0mkwds\u001b[0m\u001b[0;34m)\u001b[0m\u001b[0;34m\u001b[0m\u001b[0;34m\u001b[0m\u001b[0m\n\u001b[0m\u001b[1;32m    865\u001b[0m       \u001b[0;32mif\u001b[0m \u001b[0mself\u001b[0m\u001b[0;34m.\u001b[0m\u001b[0m_created_variables\u001b[0m \u001b[0;32mand\u001b[0m \u001b[0;32mnot\u001b[0m \u001b[0mALLOW_DYNAMIC_VARIABLE_CREATION\u001b[0m\u001b[0;34m:\u001b[0m\u001b[0;34m\u001b[0m\u001b[0;34m\u001b[0m\u001b[0m\n\u001b[1;32m    866\u001b[0m         raise ValueError(\"Creating variables on a non-first call to a function\"\n",
            "\u001b[0;32m/usr/local/lib/python3.10/dist-packages/tensorflow/python/eager/polymorphic_function/tracing_compiler.py\u001b[0m in \u001b[0;36m__call__\u001b[0;34m(self, *args, **kwargs)\u001b[0m\n\u001b[1;32m    146\u001b[0m       (concrete_function,\n\u001b[1;32m    147\u001b[0m        filtered_flat_args) = self._maybe_define_function(args, kwargs)\n\u001b[0;32m--> 148\u001b[0;31m     return concrete_function._call_flat(\n\u001b[0m\u001b[1;32m    149\u001b[0m         filtered_flat_args, captured_inputs=concrete_function.captured_inputs)  # pylint: disable=protected-access\n\u001b[1;32m    150\u001b[0m \u001b[0;34m\u001b[0m\u001b[0m\n",
            "\u001b[0;32m/usr/local/lib/python3.10/dist-packages/tensorflow/python/eager/polymorphic_function/monomorphic_function.py\u001b[0m in \u001b[0;36m_call_flat\u001b[0;34m(self, args, captured_inputs)\u001b[0m\n\u001b[1;32m   1290\u001b[0m     \"\"\"\n\u001b[1;32m   1291\u001b[0m     \u001b[0mctx\u001b[0m \u001b[0;34m=\u001b[0m \u001b[0mcontext\u001b[0m\u001b[0;34m.\u001b[0m\u001b[0mcontext\u001b[0m\u001b[0;34m(\u001b[0m\u001b[0;34m)\u001b[0m\u001b[0;34m\u001b[0m\u001b[0;34m\u001b[0m\u001b[0m\n\u001b[0;32m-> 1292\u001b[0;31m     \u001b[0mexecuting_eagerly\u001b[0m \u001b[0;34m=\u001b[0m \u001b[0mctx\u001b[0m\u001b[0;34m.\u001b[0m\u001b[0mexecuting_eagerly\u001b[0m\u001b[0;34m(\u001b[0m\u001b[0;34m)\u001b[0m\u001b[0;34m\u001b[0m\u001b[0;34m\u001b[0m\u001b[0m\n\u001b[0m\u001b[1;32m   1293\u001b[0m \u001b[0;34m\u001b[0m\u001b[0m\n\u001b[1;32m   1294\u001b[0m     \u001b[0;31m# Copy saveable status of function's graph to current FuncGraph.\u001b[0m\u001b[0;34m\u001b[0m\u001b[0;34m\u001b[0m\u001b[0m\n",
            "\u001b[0;31mKeyboardInterrupt\u001b[0m: "
          ]
        }
      ]
    },
    {
      "cell_type": "code",
      "source": [
        "tf.random.set_seed(42)\n",
        "shuffled = recipes_ds.shuffle(100_000, seed=42, reshuffle_each_iteration=False)\n",
        "\n",
        "train_2 = shuffled.take(80_000)\n",
        "test_2 = shuffled.skip(80_000).take(20_000)\n",
        "\n",
        "cached_train_2 = train_2.shuffle(100_000).batch(2048)\n",
        "cached_test_2 = test_2.batch(4096).cache()"
      ],
      "metadata": {
        "id": "Yj2ll1gJRC4L"
      },
      "execution_count": 81,
      "outputs": []
    },
    {
      "cell_type": "code",
      "source": [
        "model_2.fit(cached_train_2, epochs=3)"
      ],
      "metadata": {
        "colab": {
          "base_uri": "https://localhost:8080/"
        },
        "id": "h38dRpAODbVe",
        "outputId": "51076930-1859-4e08-94c8-58ae81233057"
      },
      "execution_count": 82,
      "outputs": [
        {
          "output_type": "stream",
          "name": "stdout",
          "text": [
            "Epoch 1/3\n",
            "40/40 [==============================] - 2234s 56s/step - factorized_top_k/top_1_categorical_accuracy: 0.0187 - factorized_top_k/top_5_categorical_accuracy: 0.0187 - factorized_top_k/top_10_categorical_accuracy: 0.0187 - factorized_top_k/top_50_categorical_accuracy: 0.0190 - factorized_top_k/top_100_categorical_accuracy: 0.0192 - root_mean_squared_error: 31144.9336 - loss: 925776168.2913 - regularization_loss: 0.0000e+00 - total_loss: 925776168.2913\n",
            "Epoch 2/3\n",
            "40/40 [==============================] - 2282s 57s/step - factorized_top_k/top_1_categorical_accuracy: 2.5000e-05 - factorized_top_k/top_5_categorical_accuracy: 2.5000e-05 - factorized_top_k/top_10_categorical_accuracy: 5.0000e-05 - factorized_top_k/top_50_categorical_accuracy: 3.2500e-04 - factorized_top_k/top_100_categorical_accuracy: 7.1250e-04 - root_mean_squared_error: 71.4946 - loss: 2859781.2355 - regularization_loss: 0.0000e+00 - total_loss: 2859781.2355\n",
            "Epoch 3/3\n",
            "40/40 [==============================] - 2443s 61s/step - factorized_top_k/top_1_categorical_accuracy: 8.7500e-05 - factorized_top_k/top_5_categorical_accuracy: 1.3750e-04 - factorized_top_k/top_10_categorical_accuracy: 2.0000e-04 - factorized_top_k/top_50_categorical_accuracy: 7.2500e-04 - factorized_top_k/top_100_categorical_accuracy: 0.0013 - root_mean_squared_error: 70.1635 - loss: 1709401.7957 - regularization_loss: 0.0000e+00 - total_loss: 1709401.7957\n"
          ]
        },
        {
          "output_type": "execute_result",
          "data": {
            "text/plain": [
              "<keras.src.callbacks.History at 0x78fe0c3aceb0>"
            ]
          },
          "metadata": {},
          "execution_count": 82
        }
      ]
    },
    {
      "cell_type": "markdown",
      "source": [
        "This multi-task (retrieval and ranking) model with the extra embeddings of recipe name and the diet-type features I added had a ranking RMSE of about 61.447 and a top-100 accuracy of 0.000."
      ],
      "metadata": {
        "id": "kKyi5K-c78zF"
      }
    },
    {
      "cell_type": "code",
      "source": [
        "metrics = model.evaluate(cached_test, return_dict=True)\n",
        "\n",
        "print(f\"Retrieval top-100 accuracy: {metrics['factorized_top_k/top_100_categorical_accuracy']:.3f}.\")\n",
        "print(f\"Ranking RMSE: {metrics['root_mean_squared_error']:.3f}.\")"
      ],
      "metadata": {
        "colab": {
          "base_uri": "https://localhost:8080/"
        },
        "id": "38gO36tE78G4",
        "outputId": "ce4fcdc4-395e-4019-b9ff-f93d033ad3a2"
      },
      "execution_count": 83,
      "outputs": [
        {
          "output_type": "stream",
          "name": "stdout",
          "text": [
            "5/5 [==============================] - 566s 110s/step - factorized_top_k/top_1_categorical_accuracy: 1.0000e-04 - factorized_top_k/top_5_categorical_accuracy: 1.0000e-04 - factorized_top_k/top_10_categorical_accuracy: 1.5000e-04 - factorized_top_k/top_50_categorical_accuracy: 2.0000e-04 - factorized_top_k/top_100_categorical_accuracy: 3.5000e-04 - root_mean_squared_error: 61.4468 - loss: 3301005.0417 - regularization_loss: 0.0000e+00 - total_loss: 3301005.0417\n",
            "Retrieval top-100 accuracy: 0.000.\n",
            "Ranking RMSE: 61.447.\n"
          ]
        }
      ]
    },
    {
      "cell_type": "code",
      "source": [
        "model_3 = RecipeRecommendModel(1, 0)\n",
        "model_3.compile(optimizer=tf.keras.optimizers.Adagrad(learning_rate=0.5))"
      ],
      "metadata": {
        "id": "VqdBHbzA847y"
      },
      "execution_count": 84,
      "outputs": []
    },
    {
      "cell_type": "code",
      "source": [
        "model_3.fit(cached_train_2, epochs=3)\n",
        "\n",
        "metrics_3 = model_3.evaluate(cached_test_2, return_dict=True)\n",
        "\n",
        "print(f\"Retrieval top-100 accuracy: {metrics_3['factorized_top_k/top_100_categorical_accuracy']:.3f}.\")\n",
        "print(f\"Ranking RMSE: {metrics_3['root_mean_squared_error']:.3f}.\")"
      ],
      "metadata": {
        "colab": {
          "base_uri": "https://localhost:8080/"
        },
        "id": "3_x3aQcW87mu",
        "outputId": "4718c6af-7665-45ab-dcb1-84f6513c9b10"
      },
      "execution_count": 87,
      "outputs": [
        {
          "output_type": "stream",
          "name": "stdout",
          "text": [
            "Epoch 1/3\n",
            "40/40 [==============================] - 2320s 58s/step - factorized_top_k/top_1_categorical_accuracy: 0.0563 - factorized_top_k/top_5_categorical_accuracy: 0.0563 - factorized_top_k/top_10_categorical_accuracy: 0.0563 - factorized_top_k/top_50_categorical_accuracy: 0.0567 - factorized_top_k/top_100_categorical_accuracy: 0.0571 - root_mean_squared_error: 64957.4570 - loss: 4020280934.9180 - regularization_loss: 0.0000e+00 - total_loss: 4020280934.9180\n",
            "Epoch 2/3\n",
            "40/40 [==============================] - 2371s 59s/step - factorized_top_k/top_1_categorical_accuracy: 0.0000e+00 - factorized_top_k/top_5_categorical_accuracy: 1.2500e-05 - factorized_top_k/top_10_categorical_accuracy: 2.5000e-05 - factorized_top_k/top_50_categorical_accuracy: 2.5000e-04 - factorized_top_k/top_100_categorical_accuracy: 5.2500e-04 - root_mean_squared_error: 1262.2323 - loss: 1531187.0564 - regularization_loss: 0.0000e+00 - total_loss: 1531187.0564\n",
            "Epoch 3/3\n",
            "40/40 [==============================] - 2431s 61s/step - factorized_top_k/top_1_categorical_accuracy: 5.0000e-05 - factorized_top_k/top_5_categorical_accuracy: 6.2500e-05 - factorized_top_k/top_10_categorical_accuracy: 8.7500e-05 - factorized_top_k/top_50_categorical_accuracy: 3.3750e-04 - factorized_top_k/top_100_categorical_accuracy: 5.8750e-04 - root_mean_squared_error: 639.7979 - loss: 399149.4143 - regularization_loss: 0.0000e+00 - total_loss: 399149.4143\n",
            "5/5 [==============================] - 569s 113s/step - factorized_top_k/top_1_categorical_accuracy: 0.0000e+00 - factorized_top_k/top_5_categorical_accuracy: 5.0000e-05 - factorized_top_k/top_10_categorical_accuracy: 5.0000e-05 - factorized_top_k/top_50_categorical_accuracy: 2.0000e-04 - factorized_top_k/top_100_categorical_accuracy: 3.5000e-04 - root_mean_squared_error: 440.9489 - loss: 189891.5052 - regularization_loss: 0.0000e+00 - total_loss: 189891.5052\n",
            "Retrieval top-100 accuracy: 0.000.\n",
            "Ranking RMSE: 440.949.\n"
          ]
        }
      ]
    },
    {
      "cell_type": "markdown",
      "source": [
        "performed much worse with only the ranking task. RMSE = 440.949, 0.000 top-100 accuracy."
      ],
      "metadata": {
        "id": "BQS_Asubk_dN"
      }
    },
    {
      "cell_type": "code",
      "source": [
        "#Retrieval Recs:\n",
        "scann = tfrs.layers.factorized_top_k.ScaNN(model.query_model, num_leaves=1000, num_leaves_to_search=100, num_reordering_candidates=100, k=15)\n",
        "scann.index_from_dataset(tf.data.Dataset.zip((movie_map.batch(100), movie_map.batch(100).map(model.candidate_model))))\n",
        "_, titles = scann({\"user_id\":tf.constant([\"221\"])})"
      ],
      "metadata": {
        "id": "7ylWvKGvTP3x"
      },
      "execution_count": null,
      "outputs": []
    },
    {
      "cell_type": "code",
      "source": [
        "#Ranking the Recs:\n",
        "res = {\"movie_title\":[],\"rank\":[]}\n",
        "test_data = {\"user_id\":tf.constant([\"221\"])}\n",
        "for data in titles:\n",
        "    res[\"movie_title\"].append(data.decode())\n",
        "    test_data[\"movie_title\"] = np.array([data.decode()])\n",
        "    _, _, rating = model(test_data)\n",
        "    res[\"rank\"].append(int(rating[0][0]))"
      ],
      "metadata": {
        "id": "flywFLXmTSGs"
      },
      "execution_count": null,
      "outputs": []
    },
    {
      "cell_type": "code",
      "source": [
        "#sort by ranking and create a dataframe:\n",
        "df_res = pd.DataFrame(res)\n",
        "df_res.sort_values('rating', ascending=False)"
      ],
      "metadata": {
        "id": "WyGfD6odTd9K"
      },
      "execution_count": null,
      "outputs": []
    },
    {
      "cell_type": "code",
      "source": [
        "#define the task\n",
        "task = tfrs.tasks.Retrieval(metrics=tfrs.metrics.FactorizedTopK(\n",
        "    recipes.batch(128).map(recipe_model)\n",
        "))"
      ],
      "metadata": {
        "colab": {
          "base_uri": "https://localhost:8080/",
          "height": 232
        },
        "id": "y-u7hCP-5Z88",
        "outputId": "add9de39-2771-4cac-ebcf-752fc0669281"
      },
      "execution_count": 114,
      "outputs": [
        {
          "output_type": "error",
          "ename": "NameError",
          "evalue": "name 'recipe_model' is not defined",
          "traceback": [
            "\u001b[0;31m---------------------------------------------------------------------------\u001b[0m",
            "\u001b[0;31mNameError\u001b[0m                                 Traceback (most recent call last)",
            "\u001b[0;32m<ipython-input-114-e30f5de4ba2d>\u001b[0m in \u001b[0;36m<cell line: 2>\u001b[0;34m()\u001b[0m\n\u001b[1;32m      1\u001b[0m \u001b[0;31m#define the task\u001b[0m\u001b[0;34m\u001b[0m\u001b[0;34m\u001b[0m\u001b[0m\n\u001b[1;32m      2\u001b[0m task = tfrs.tasks.Retrieval(metrics=tfrs.metrics.FactorizedTopK(\n\u001b[0;32m----> 3\u001b[0;31m     \u001b[0mrecipes\u001b[0m\u001b[0;34m.\u001b[0m\u001b[0mbatch\u001b[0m\u001b[0;34m(\u001b[0m\u001b[0;36m128\u001b[0m\u001b[0;34m)\u001b[0m\u001b[0;34m.\u001b[0m\u001b[0mmap\u001b[0m\u001b[0;34m(\u001b[0m\u001b[0mrecipe_model\u001b[0m\u001b[0;34m)\u001b[0m\u001b[0;34m\u001b[0m\u001b[0;34m\u001b[0m\u001b[0m\n\u001b[0m\u001b[1;32m      4\u001b[0m ))\n",
            "\u001b[0;31mNameError\u001b[0m: name 'recipe_model' is not defined"
          ]
        }
      ]
    },
    {
      "cell_type": "code",
      "source": [
        "#defining task:\n"
      ],
      "metadata": {
        "id": "9D0wK92DQgjs"
      },
      "execution_count": 77,
      "outputs": []
    },
    {
      "cell_type": "code",
      "source": [
        "class User_recipe_Model(tfrs.models.Model):\n",
        "\n",
        "  def __init__(self, use_embeds) -> None:\n",
        "    super().__init__()\n",
        "    self.query_model = tf.keras.Sequential([\n",
        "      UserModel(),\n",
        "      tf.keras.layers.Dense(32)\n",
        "    ])\n",
        "    self.candidate_model = tf.keras.Sequential([\n",
        "      RecipeModel(use_embeds),\n",
        "      tf.keras.layers.Dense(32)\n",
        "    ])\n",
        "\n",
        "\n",
        "    # self.rating_model = tf.keras.Sequential([\n",
        "    #     tf.keras.layers.Dense(256, activation=\"relu\"),\n",
        "    #     tf.keras.layers.Dense(128, activation=\"relu\"),\n",
        "    #     tf.keras.layers.Dense(1),\n",
        "  #  ])\n",
        "    self.task = tfrs.tasks.Retrieval(\n",
        "        metrics=tfrs.metrics.FactorizedTopK(\n",
        "            candidates=recipes.batch(128).map(self.candidate_model),\n",
        "        ))\n",
        "    # #The loss weights.\n",
        "    # self.rating_weight = rating_weight\n",
        "    # self.retrieval_weight = retrieval_weight\n",
        "\n",
        "    # self.recipe_id_strings = tf.strings.as_string(recipes.batch(128).map(self.recipe_embedding))\n",
        "    # self.diets_combined_strings = tf.strings.as_string(recipes.batch(128).map(self.diets_combined))\n",
        "    # self.description_strings = tf.strings.as_string(recipes.batch(128).map(self.description))\n",
        "\n",
        "  # def call(self, features: Dict[Text, tf.Tensor]) -> tf.Tensor:\n",
        "  #   # We pick out the user features and pass them into the user model.\n",
        "  #   user_embedding = self.query_model(features[\"user_id\"])\n",
        "  #   # And pick out the movie features and pass them into the movie model.\n",
        "  #   recipe_embedding = self.candidate_model(features[\"recipe_id\"])\n",
        "  #   diet_embedding = self.candidate_model(features[\"diets_combined\"])\n",
        "  #   descr_embedding = self.candidate_model(features[\"description\"])\n",
        "\n",
        "  #   return (\n",
        "  #       user_embedding,\n",
        "  #       recipe_embedding,\n",
        "  #       diet_embedding,\n",
        "  #       descr_embedding,\n",
        "  #       # We apply the multi-layered rating model to a concatentation of\n",
        "  #       # user and movie embeddings.\n",
        "  #       self.rating_model(\n",
        "  #           tf.concat([user_embedding, recipe_embedding, diet_embedding, descr_embedding], axis=1)\n",
        "  #       )\n",
        "  #   )\n",
        "\n",
        "  def compute_loss(self, features:Dict[Text, tf.Tensor], training=False) -> tf.Tensor:\n",
        "    # We only pass the user id and timestamp features into the query model. This\n",
        "    # is to ensure that the training inputs would have the same keys as the\n",
        "    # query inputs. Otherwise the discrepancy in input structure would cause an\n",
        "    # error when loading the query model after saving it.\n",
        "    query_embeddings = self.query_model({\n",
        "        \"user_id\":features[\"user_id\"]})\n",
        "\n",
        "    recipe_embeddings = self.candidate_model(\n",
        "        {\"recipe_id\": features[\"recipe_id\"],\n",
        "         \"diets\": features[\"diets_combined\"]})\n",
        "        # \"diets\": features[\"diets_combined\"],\n",
        "        #\"descriptions\": features[\"description\"]\n",
        "        #})\n",
        "    return self.task(query_embeddings, recipe_embeddings)\n",
        "\n",
        "\n",
        "  # def compute_loss(self, features: Dict[Text, tf.Tensor], training=False) -> tf.Tensor:\n",
        "\n",
        "  #     ratings = features.pop(\"rating\")\n",
        "\n",
        "  #     query_embeddings, recipe_embeddings, rating_predictions = self(features)\n",
        "\n",
        "  #     # We compute the loss for each task.\n",
        "  #     rating_loss = self.rating_task(\n",
        "  #         labels=ratings,\n",
        "  #         predictions=rating_predictions,\n",
        "  #     )\n",
        "  #     retrieval_loss = self.retrieval_task(query_embeddings, recipe_embeddings)\n",
        "  #     # And combine them using the loss weights.\n",
        "  #     return (self.rating_weight * rating_loss\n",
        "  #             + self.retrieval_weight * retrieval_loss)"
      ],
      "metadata": {
        "id": "CuBzcnx-8mCi"
      },
      "execution_count": 144,
      "outputs": []
    },
    {
      "cell_type": "code",
      "source": [
        "tf.random.set_seed(42)\n",
        "shuffled = user_ratings.shuffle(100_000, seed=42, reshuffle_each_iteration=False)\n",
        "\n",
        "train = shuffled.take(80_000)\n",
        "test = shuffled.skip(80_000).take(20_000)\n",
        "\n",
        "cached_train = train.shuffle(100_000).batch(2048)\n",
        "cached_test = test.batch(4096).cache()"
      ],
      "metadata": {
        "id": "40Ic-t2b9drD"
      },
      "execution_count": 145,
      "outputs": []
    },
    {
      "cell_type": "code",
      "source": [
        "model = User_recipe_Model(use_embeds=True)\n",
        "model.compile(optimizer=tf.keras.optimizers.Adagrad(0.1))\n"
      ],
      "metadata": {
        "id": "ytxt0MwA9i9m"
      },
      "execution_count": 146,
      "outputs": []
    },
    {
      "cell_type": "code",
      "source": [
        "model.fit(cached_train, epochs=3)\n",
        "\n",
        "train_accuracy = model.evaluate(\n",
        "    cached_train, return_dict=True)[\"factorized_top_k/top_100_categorical_accuracy\"]\n",
        "test_accuracy = model.evaluate(\n",
        "    cached_test, return_dict=True)[\"factorized_top_k/top_100_categorical_accuracy\"]\n",
        "\n",
        "print(f\"Top-100 accuracy (train): {train_accuracy:.2f}.\")\n",
        "print(f\"Top-100 accuracy (test): {test_accuracy:.2f}.\")"
      ],
      "metadata": {
        "colab": {
          "base_uri": "https://localhost:8080/",
          "height": 1000
        },
        "id": "FlsxtpEi-fjQ",
        "outputId": "dae99740-8f1e-42b7-d32a-ed9cd6417149"
      },
      "execution_count": 147,
      "outputs": [
        {
          "output_type": "stream",
          "name": "stdout",
          "text": [
            "Epoch 1/3\n"
          ]
        },
        {
          "output_type": "error",
          "ename": "TypeError",
          "evalue": "in user code:\n\n    File \"/usr/local/lib/python3.10/dist-packages/keras/src/engine/training.py\", line 1338, in train_function  *\n        return step_function(self, iterator)\n    File \"/usr/local/lib/python3.10/dist-packages/keras/src/engine/training.py\", line 1322, in step_function  **\n        outputs = model.distribute_strategy.run(run_step, args=(data,))\n    File \"/usr/local/lib/python3.10/dist-packages/keras/src/engine/training.py\", line 1303, in run_step  **\n        outputs = model.train_step(data)\n    File \"/usr/local/lib/python3.10/dist-packages/tensorflow_recommenders/models/base.py\", line 68, in train_step\n        loss = self.compute_loss(inputs, training=True)\n    File \"<ipython-input-144-7d8f30b2ae4e>\", line 69, in compute_loss\n        query_embeddings = self.query_model({\n    File \"/usr/local/lib/python3.10/dist-packages/keras/src/utils/traceback_utils.py\", line 70, in error_handler\n        raise e.with_traceback(filtered_tb) from None\n\n    TypeError: Exception encountered when calling layer 'sequential_117' (type Sequential).\n    \n    in user code:\n    \n    \n        TypeError: outer_factory.<locals>.inner_factory.<locals>.tf__call() takes 1 positional argument but 2 were given\n    \n    \n    Call arguments received by layer 'sequential_117' (type Sequential):\n      • inputs={'user_id': 'tf.Tensor(shape=(None,), dtype=int64)'}\n      • training=None\n      • mask=None\n",
          "traceback": [
            "\u001b[0;31m---------------------------------------------------------------------------\u001b[0m",
            "\u001b[0;31mTypeError\u001b[0m                                 Traceback (most recent call last)",
            "\u001b[0;32m<ipython-input-147-d9edfa2c6855>\u001b[0m in \u001b[0;36m<cell line: 1>\u001b[0;34m()\u001b[0m\n\u001b[0;32m----> 1\u001b[0;31m \u001b[0mmodel\u001b[0m\u001b[0;34m.\u001b[0m\u001b[0mfit\u001b[0m\u001b[0;34m(\u001b[0m\u001b[0mcached_train\u001b[0m\u001b[0;34m,\u001b[0m \u001b[0mepochs\u001b[0m\u001b[0;34m=\u001b[0m\u001b[0;36m3\u001b[0m\u001b[0;34m)\u001b[0m\u001b[0;34m\u001b[0m\u001b[0;34m\u001b[0m\u001b[0m\n\u001b[0m\u001b[1;32m      2\u001b[0m \u001b[0;34m\u001b[0m\u001b[0m\n\u001b[1;32m      3\u001b[0m train_accuracy = model.evaluate(\n\u001b[1;32m      4\u001b[0m     cached_train, return_dict=True)[\"factorized_top_k/top_100_categorical_accuracy\"]\n\u001b[1;32m      5\u001b[0m test_accuracy = model.evaluate(\n",
            "\u001b[0;32m/usr/local/lib/python3.10/dist-packages/keras/src/utils/traceback_utils.py\u001b[0m in \u001b[0;36merror_handler\u001b[0;34m(*args, **kwargs)\u001b[0m\n\u001b[1;32m     68\u001b[0m             \u001b[0;31m# To get the full stack trace, call:\u001b[0m\u001b[0;34m\u001b[0m\u001b[0;34m\u001b[0m\u001b[0m\n\u001b[1;32m     69\u001b[0m             \u001b[0;31m# `tf.debugging.disable_traceback_filtering()`\u001b[0m\u001b[0;34m\u001b[0m\u001b[0;34m\u001b[0m\u001b[0m\n\u001b[0;32m---> 70\u001b[0;31m             \u001b[0;32mraise\u001b[0m \u001b[0me\u001b[0m\u001b[0;34m.\u001b[0m\u001b[0mwith_traceback\u001b[0m\u001b[0;34m(\u001b[0m\u001b[0mfiltered_tb\u001b[0m\u001b[0;34m)\u001b[0m \u001b[0;32mfrom\u001b[0m \u001b[0;32mNone\u001b[0m\u001b[0;34m\u001b[0m\u001b[0;34m\u001b[0m\u001b[0m\n\u001b[0m\u001b[1;32m     71\u001b[0m         \u001b[0;32mfinally\u001b[0m\u001b[0;34m:\u001b[0m\u001b[0;34m\u001b[0m\u001b[0;34m\u001b[0m\u001b[0m\n\u001b[1;32m     72\u001b[0m             \u001b[0;32mdel\u001b[0m \u001b[0mfiltered_tb\u001b[0m\u001b[0;34m\u001b[0m\u001b[0;34m\u001b[0m\u001b[0m\n",
            "\u001b[0;32m/usr/local/lib/python3.10/dist-packages/keras/src/engine/training.py\u001b[0m in \u001b[0;36mtf__train_function\u001b[0;34m(iterator)\u001b[0m\n\u001b[1;32m     13\u001b[0m                 \u001b[0;32mtry\u001b[0m\u001b[0;34m:\u001b[0m\u001b[0;34m\u001b[0m\u001b[0;34m\u001b[0m\u001b[0m\n\u001b[1;32m     14\u001b[0m                     \u001b[0mdo_return\u001b[0m \u001b[0;34m=\u001b[0m \u001b[0;32mTrue\u001b[0m\u001b[0;34m\u001b[0m\u001b[0;34m\u001b[0m\u001b[0m\n\u001b[0;32m---> 15\u001b[0;31m                     \u001b[0mretval_\u001b[0m \u001b[0;34m=\u001b[0m \u001b[0mag__\u001b[0m\u001b[0;34m.\u001b[0m\u001b[0mconverted_call\u001b[0m\u001b[0;34m(\u001b[0m\u001b[0mag__\u001b[0m\u001b[0;34m.\u001b[0m\u001b[0mld\u001b[0m\u001b[0;34m(\u001b[0m\u001b[0mstep_function\u001b[0m\u001b[0;34m)\u001b[0m\u001b[0;34m,\u001b[0m \u001b[0;34m(\u001b[0m\u001b[0mag__\u001b[0m\u001b[0;34m.\u001b[0m\u001b[0mld\u001b[0m\u001b[0;34m(\u001b[0m\u001b[0mself\u001b[0m\u001b[0;34m)\u001b[0m\u001b[0;34m,\u001b[0m \u001b[0mag__\u001b[0m\u001b[0;34m.\u001b[0m\u001b[0mld\u001b[0m\u001b[0;34m(\u001b[0m\u001b[0miterator\u001b[0m\u001b[0;34m)\u001b[0m\u001b[0;34m)\u001b[0m\u001b[0;34m,\u001b[0m \u001b[0;32mNone\u001b[0m\u001b[0;34m,\u001b[0m \u001b[0mfscope\u001b[0m\u001b[0;34m)\u001b[0m\u001b[0;34m\u001b[0m\u001b[0;34m\u001b[0m\u001b[0m\n\u001b[0m\u001b[1;32m     16\u001b[0m                 \u001b[0;32mexcept\u001b[0m\u001b[0;34m:\u001b[0m\u001b[0;34m\u001b[0m\u001b[0;34m\u001b[0m\u001b[0m\n\u001b[1;32m     17\u001b[0m                     \u001b[0mdo_return\u001b[0m \u001b[0;34m=\u001b[0m \u001b[0;32mFalse\u001b[0m\u001b[0;34m\u001b[0m\u001b[0;34m\u001b[0m\u001b[0m\n",
            "\u001b[0;32m/usr/local/lib/python3.10/dist-packages/tensorflow_recommenders/models/base.py\u001b[0m in \u001b[0;36mtrain_step\u001b[0;34m(self, inputs)\u001b[0m\n\u001b[1;32m     66\u001b[0m \u001b[0;34m\u001b[0m\u001b[0m\n\u001b[1;32m     67\u001b[0m     \u001b[0;32mwith\u001b[0m \u001b[0mtf\u001b[0m\u001b[0;34m.\u001b[0m\u001b[0mGradientTape\u001b[0m\u001b[0;34m(\u001b[0m\u001b[0;34m)\u001b[0m \u001b[0;32mas\u001b[0m \u001b[0mtape\u001b[0m\u001b[0;34m:\u001b[0m\u001b[0;34m\u001b[0m\u001b[0;34m\u001b[0m\u001b[0m\n\u001b[0;32m---> 68\u001b[0;31m       \u001b[0mloss\u001b[0m \u001b[0;34m=\u001b[0m \u001b[0mself\u001b[0m\u001b[0;34m.\u001b[0m\u001b[0mcompute_loss\u001b[0m\u001b[0;34m(\u001b[0m\u001b[0minputs\u001b[0m\u001b[0;34m,\u001b[0m \u001b[0mtraining\u001b[0m\u001b[0;34m=\u001b[0m\u001b[0;32mTrue\u001b[0m\u001b[0;34m)\u001b[0m\u001b[0;34m\u001b[0m\u001b[0;34m\u001b[0m\u001b[0m\n\u001b[0m\u001b[1;32m     69\u001b[0m \u001b[0;34m\u001b[0m\u001b[0m\n\u001b[1;32m     70\u001b[0m       \u001b[0;31m# Handle regularization losses as well.\u001b[0m\u001b[0;34m\u001b[0m\u001b[0;34m\u001b[0m\u001b[0m\n",
            "\u001b[0;32m<ipython-input-144-7d8f30b2ae4e>\u001b[0m in \u001b[0;36mcompute_loss\u001b[0;34m(self, features, training)\u001b[0m\n\u001b[1;32m     67\u001b[0m     \u001b[0;31m# query inputs. Otherwise the discrepancy in input structure would cause an\u001b[0m\u001b[0;34m\u001b[0m\u001b[0;34m\u001b[0m\u001b[0m\n\u001b[1;32m     68\u001b[0m     \u001b[0;31m# error when loading the query model after saving it.\u001b[0m\u001b[0;34m\u001b[0m\u001b[0;34m\u001b[0m\u001b[0m\n\u001b[0;32m---> 69\u001b[0;31m     query_embeddings = self.query_model({\n\u001b[0m\u001b[1;32m     70\u001b[0m         \"user_id\":features[\"user_id\"]})\n\u001b[1;32m     71\u001b[0m \u001b[0;34m\u001b[0m\u001b[0m\n",
            "\u001b[0;31mTypeError\u001b[0m: in user code:\n\n    File \"/usr/local/lib/python3.10/dist-packages/keras/src/engine/training.py\", line 1338, in train_function  *\n        return step_function(self, iterator)\n    File \"/usr/local/lib/python3.10/dist-packages/keras/src/engine/training.py\", line 1322, in step_function  **\n        outputs = model.distribute_strategy.run(run_step, args=(data,))\n    File \"/usr/local/lib/python3.10/dist-packages/keras/src/engine/training.py\", line 1303, in run_step  **\n        outputs = model.train_step(data)\n    File \"/usr/local/lib/python3.10/dist-packages/tensorflow_recommenders/models/base.py\", line 68, in train_step\n        loss = self.compute_loss(inputs, training=True)\n    File \"<ipython-input-144-7d8f30b2ae4e>\", line 69, in compute_loss\n        query_embeddings = self.query_model({\n    File \"/usr/local/lib/python3.10/dist-packages/keras/src/utils/traceback_utils.py\", line 70, in error_handler\n        raise e.with_traceback(filtered_tb) from None\n\n    TypeError: Exception encountered when calling layer 'sequential_117' (type Sequential).\n    \n    in user code:\n    \n    \n        TypeError: outer_factory.<locals>.inner_factory.<locals>.tf__call() takes 1 positional argument but 2 were given\n    \n    \n    Call arguments received by layer 'sequential_117' (type Sequential):\n      • inputs={'user_id': 'tf.Tensor(shape=(None,), dtype=int64)'}\n      • training=None\n      • mask=None\n"
          ]
        }
      ]
    },
    {
      "cell_type": "markdown",
      "source": [
        "______"
      ],
      "metadata": {
        "id": "kwiOuoI6yNnc"
      }
    },
    {
      "cell_type": "code",
      "source": [
        "# class User_recipe_Model(tfrs.models.Model):\n",
        "\n",
        "#   def __init__(self, rating_weight: float, retrieval_weight: float) -> None:\n",
        "#     super().__init__()\n",
        "#     max_tokens = 10_000\n",
        "#     # self.query_embedding = tf.keras.Sequential([\n",
        "#     #   UserModel(),\n",
        "#     #   tf.keras.layers.Dense(32)\n",
        "#     # ])\n",
        "#     # self.candidate_model = tf.keras.Sequential([\n",
        "#     #   RecipeModel(use_embeds),\n",
        "#     #   tf.keras.layers.Dense(32)\n",
        "#     # ])\n",
        "#     self.user_embedding: tf.keras.layers.Layer = tf.keras.Sequential([\n",
        "#       UserModel(),\n",
        "#       tf.keras.layers.Dense(32)\n",
        "#     ])\n",
        "#     self.candidate_model: tf.keras.layers.Layer = self.recipe_embedding = tf.keras.Sequential([\n",
        "#       tf.keras.layers.StringLookup(\n",
        "#           vocabulary=unique_recipe_ids, mask_token=None),\n",
        "#       tf.keras.layers.Embedding(len(unique_recipe_ids)+1, 32)\n",
        "#     ])\n",
        "#     self.diet_embedding = tf.keras.Sequential([\n",
        "#       tf.keras.layers.StringLookup(\n",
        "#           vocabulary = unique_diets, mask_token=None),\n",
        "#       tf.keras.layers.Embedding(len(unique_diets)+1, 32)\n",
        "#       ])\n",
        "\n",
        "#     self.descr_embedding = tf.keras.Sequential([\n",
        "#       tf.keras.layers.TextVectorization(max_tokens=max_tokens),\n",
        "#       tf.keras.layers.Embedding(max_tokens, 32, mask_zero=True),\n",
        "#       # We average the embedding of individual words to get one embedding vector\n",
        "#       # per title.\n",
        "#       tf.keras.layers.GlobalAveragePooling1D()\n",
        "#     ])\n",
        "\n",
        "\n",
        "#     #the tasks\n",
        "#     self.rating_task: tf.keras.layers.Layer = tfrs.tasks.Ranking(\n",
        "#         loss=tf.keras.losses.MeanSquaredError(),\n",
        "#         metrics=[tf.keras.metrics.RootMeanSquaredError()],\n",
        "#     )\n",
        "#     self.retrieval_task: tf.keras.layers.Layer = tfrs.tasks.Retrieval(\n",
        "#         metrics=tfrs.metrics.FactorizedTopK(\n",
        "#             candidates = recipes.batch(128).map(self.candidate_model)\n",
        "#         )\n",
        "#     )\n",
        "#     self.rating_model = tf.keras.Sequential([\n",
        "#         tf.keras.layers.Dense(256, activation=\"relu\"),\n",
        "#         tf.keras.layers.Dense(128, activation=\"relu\"),\n",
        "#         tf.keras.layers.Dense(1),\n",
        "#     ])\n",
        "#     # The loss weights.\n",
        "#     self.rating_weight = rating_weight\n",
        "#     self.retrieval_weight = retrieval_weight\n",
        "\n",
        "#   def call(self, features: Dict[Text, tf.Tensor]) -> tf.Tensor:\n",
        "#     # We pick out the user features and pass them into the user model.\n",
        "#     user_embedding = self.query_embedding(features[\"user_id\"])\n",
        "#     # And pick out the movie features and pass them into the movie model.\n",
        "#     recipe_embedding = self.candidate_model(features[\"recipe_id\"])\n",
        "#     diet_embedding = self.candidate_model(features[\"diet\"])\n",
        "#     descr_embedding = self.candidate_model(features[\"description\"])\n",
        "\n",
        "#     return (\n",
        "#         user_embedding,\n",
        "#         recipe_embedding,\n",
        "#         diet_embedding,\n",
        "#         descr_embedding,\n",
        "#         # We apply the multi-layered rating model to a concatentation of\n",
        "#         # user and movie embeddings.\n",
        "#         self.rating_model(\n",
        "#             tf.concat([user_embedding, recipe_embedding, diet_embedding, descr_embedding], axis=1)\n",
        "#         )\n",
        "#     )\n",
        "\n",
        "#   # def compute_loss(self, features, training=False):\n",
        "#   #   # We only pass the user id and timestamp features into the query model. This\n",
        "#   #   # is to ensure that the training inputs would have the same keys as the\n",
        "#   #   # query inputs. Otherwise the discrepancy in input structure would cause an\n",
        "#   #   # error when loading the query model after saving it.\n",
        "#   #   query_embeddings = self.query_embedding(features[\"user_id\"])\n",
        "\n",
        "#   #   recipe_embeddings = self.candidate_model({\n",
        "#   #       \"recipe_id\": features[\"recipe_id\"],\n",
        "#   #       \"diets\": features[\"diets_combined\"],\n",
        "#   #       \"descriptions\": features[\"description\"]})\n",
        "\n",
        "#   #   return self.task(query_embeddings, recipe_embeddings)\n",
        "\n",
        "#   def compute_loss(self, features: Dict[Text, tf.Tensor], training=False) -> tf.Tensor:\n",
        "\n",
        "#       ratings = features.pop(\"rating\")\n",
        "\n",
        "#       query_embeddings, recipe_embeddings, rating_predictions = self(features)\n",
        "\n",
        "#       # We compute the loss for each task.\n",
        "#       rating_loss = self.rating_task(\n",
        "#           labels=ratings,\n",
        "#           predictions=rating_predictions,\n",
        "#       )\n",
        "#       retrieval_loss = self.retrieval_task(query_embeddings, recipe_embeddings)\n",
        "#       # And combine them using the loss weights.\n",
        "#       return (self.rating_weight * rating_loss\n",
        "#               + self.retrieval_weight * retrieval_loss)"
      ],
      "metadata": {
        "id": "0EA4jHQrMD6E"
      },
      "execution_count": 128,
      "outputs": []
    },
    {
      "cell_type": "code",
      "source": [
        "class UserRecipe_plus_Model(tfrs.models.Model):\n",
        "\n",
        "  def __init__(self):\n",
        "    super().__init__()\n",
        "    self.query_model = tf.keras.Sequential([\n",
        "      UserModel(),\n",
        "      tf.keras.layers.Dense(32)\n",
        "    ])\n",
        "    self.candidate_model = tf.keras.Sequential([\n",
        "      RecipeModelPlus(),\n",
        "      tf.keras.layers.Dense(32)\n",
        "    ])\n",
        "    self.task = tfrs.tasks.Retrieval(\n",
        "        metrics=tfrs.metrics.FactorizedTopK(\n",
        "            candidates=recipe_ids.batch(32).map(self.candidate_model),\n",
        "        ),\n",
        "    )\n",
        "\n",
        "  def compute_loss(self, features, training=False):\n",
        "    # We only pass the user id and timestamp features into the query model. This\n",
        "    # is to ensure that the training inputs would have the same keys as the\n",
        "    # query inputs. Otherwise the discrepancy in input structure would cause an\n",
        "    # error when loading the query model after saving it.\n",
        "    query_embeddings = self.query_model(features[\"user_id\"])\n",
        "    recipe_embeddings = self.candidate_model({\n",
        "        \"recipe_id\": features[\"recipe_id\"],\n",
        "        \"diets\": features[\"diets\"]\n",
        "    })\n",
        "    return self.task(query_embeddings, recipe_embeddings)"
      ],
      "metadata": {
        "id": "ZvAJVU-jIIcU"
      },
      "execution_count": 139,
      "outputs": []
    }
  ],
  "metadata": {
    "colab": {
      "provenance": [],
      "machine_shape": "hm",
      "gpuType": "T4",
      "authorship_tag": "ABX9TyN7JQfQcd8XNaXzP98YdZZw",
      "include_colab_link": true
    },
    "kernelspec": {
      "display_name": "Python 3",
      "name": "python3"
    },
    "language_info": {
      "name": "python"
    },
    "accelerator": "GPU"
  },
  "nbformat": 4,
  "nbformat_minor": 0
}